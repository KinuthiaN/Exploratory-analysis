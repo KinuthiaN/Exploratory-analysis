{
 "cells": [
  {
   "cell_type": "code",
   "execution_count": 1,
   "id": "237c9567",
   "metadata": {},
   "outputs": [],
   "source": [
    "# Importing modules\n",
    "import numpy as np\n",
    "import pandas as pd\n",
    "import matplotlib.pyplot as plt\n",
    "import seaborn as sns\n",
    "from matplotlib import gridspec\n",
    "%matplotlib inline\n",
    "sns.set(color_codes=True)"
   ]
  },
  {
   "cell_type": "code",
   "execution_count": 3,
   "id": "4a60b46b",
   "metadata": {},
   "outputs": [],
   "source": [
    "# read the dataset\n",
    "spreadsheet=pd.read_csv('/Users/Hp/Downloads/NSE_data_all_stocks_2017.csv')"
   ]
  },
  {
   "cell_type": "code",
   "execution_count": 4,
   "id": "c77b8453",
   "metadata": {},
   "outputs": [
    {
     "name": "stdout",
     "output_type": "stream",
     "text": [
      "<class 'pandas.core.frame.DataFrame'>\n",
      "RangeIndex: 16981 entries, 0 to 16980\n",
      "Data columns (total 13 columns):\n",
      " #   Column     Non-Null Count  Dtype \n",
      "---  ------     --------------  ----- \n",
      " 0   DATE       16981 non-null  object\n",
      " 1   CODE       16981 non-null  object\n",
      " 2   NAME       16981 non-null  object\n",
      " 3   12m Low    16981 non-null  object\n",
      " 4   12m High   16981 non-null  object\n",
      " 5   Day Low    16981 non-null  object\n",
      " 6   Day High   16981 non-null  object\n",
      " 7   Day Price  16981 non-null  object\n",
      " 8   Previous   16981 non-null  object\n",
      " 9   Change     16981 non-null  object\n",
      " 10  Change%    16981 non-null  object\n",
      " 11  Volume     16981 non-null  object\n",
      " 12  Adjust     16981 non-null  object\n",
      "dtypes: object(13)\n",
      "memory usage: 1.7+ MB\n"
     ]
    }
   ],
   "source": [
    "spreadsheet.info()"
   ]
  },
  {
   "cell_type": "code",
   "execution_count": 5,
   "id": "2a8d16a0",
   "metadata": {},
   "outputs": [
    {
     "data": {
      "text/html": [
       "<div>\n",
       "<style scoped>\n",
       "    .dataframe tbody tr th:only-of-type {\n",
       "        vertical-align: middle;\n",
       "    }\n",
       "\n",
       "    .dataframe tbody tr th {\n",
       "        vertical-align: top;\n",
       "    }\n",
       "\n",
       "    .dataframe thead th {\n",
       "        text-align: right;\n",
       "    }\n",
       "</style>\n",
       "<table border=\"1\" class=\"dataframe\">\n",
       "  <thead>\n",
       "    <tr style=\"text-align: right;\">\n",
       "      <th></th>\n",
       "      <th>DATE</th>\n",
       "      <th>CODE</th>\n",
       "      <th>NAME</th>\n",
       "      <th>12m Low</th>\n",
       "      <th>12m High</th>\n",
       "      <th>Day Low</th>\n",
       "      <th>Day High</th>\n",
       "      <th>Day Price</th>\n",
       "      <th>Previous</th>\n",
       "      <th>Change</th>\n",
       "      <th>Change%</th>\n",
       "      <th>Volume</th>\n",
       "      <th>Adjust</th>\n",
       "    </tr>\n",
       "  </thead>\n",
       "  <tbody>\n",
       "    <tr>\n",
       "      <th>count</th>\n",
       "      <td>16981</td>\n",
       "      <td>16981</td>\n",
       "      <td>16981</td>\n",
       "      <td>16981</td>\n",
       "      <td>16981</td>\n",
       "      <td>16981</td>\n",
       "      <td>16981</td>\n",
       "      <td>16981</td>\n",
       "      <td>16981</td>\n",
       "      <td>16981</td>\n",
       "      <td>16981</td>\n",
       "      <td>16981</td>\n",
       "      <td>16981</td>\n",
       "    </tr>\n",
       "    <tr>\n",
       "      <th>unique</th>\n",
       "      <td>243</td>\n",
       "      <td>70</td>\n",
       "      <td>70</td>\n",
       "      <td>101</td>\n",
       "      <td>112</td>\n",
       "      <td>1998</td>\n",
       "      <td>2019</td>\n",
       "      <td>2386</td>\n",
       "      <td>2385</td>\n",
       "      <td>951</td>\n",
       "      <td>835</td>\n",
       "      <td>4017</td>\n",
       "      <td>561</td>\n",
       "    </tr>\n",
       "    <tr>\n",
       "      <th>top</th>\n",
       "      <td>24-Mar-17</td>\n",
       "      <td>EGAD</td>\n",
       "      <td>Eaagads Ltd</td>\n",
       "      <td>2</td>\n",
       "      <td>55.5</td>\n",
       "      <td>6</td>\n",
       "      <td>6</td>\n",
       "      <td>6</td>\n",
       "      <td>6</td>\n",
       "      <td>-</td>\n",
       "      <td>-</td>\n",
       "      <td>-</td>\n",
       "      <td>-</td>\n",
       "    </tr>\n",
       "    <tr>\n",
       "      <th>freq</th>\n",
       "      <td>138</td>\n",
       "      <td>244</td>\n",
       "      <td>244</td>\n",
       "      <td>481</td>\n",
       "      <td>488</td>\n",
       "      <td>319</td>\n",
       "      <td>352</td>\n",
       "      <td>294</td>\n",
       "      <td>293</td>\n",
       "      <td>6587</td>\n",
       "      <td>6597</td>\n",
       "      <td>4664</td>\n",
       "      <td>15350</td>\n",
       "    </tr>\n",
       "  </tbody>\n",
       "</table>\n",
       "</div>"
      ],
      "text/plain": [
       "             DATE   CODE         NAME 12m Low 12m High Day Low Day High  \\\n",
       "count       16981  16981        16981   16981    16981   16981    16981   \n",
       "unique        243     70           70     101      112    1998     2019   \n",
       "top     24-Mar-17   EGAD  Eaagads Ltd       2     55.5       6        6   \n",
       "freq          138    244          244     481      488     319      352   \n",
       "\n",
       "       Day Price Previous Change Change% Volume Adjust  \n",
       "count      16981    16981  16981   16981  16981  16981  \n",
       "unique      2386     2385    951     835   4017    561  \n",
       "top            6        6      -       -      -      -  \n",
       "freq         294      293   6587    6597   4664  15350  "
      ]
     },
     "execution_count": 5,
     "metadata": {},
     "output_type": "execute_result"
    }
   ],
   "source": [
    "spreadsheet.describe()"
   ]
  },
  {
   "cell_type": "code",
   "execution_count": 6,
   "id": "bab16614",
   "metadata": {},
   "outputs": [
    {
     "data": {
      "text/plain": [
       "Index(['DATE', 'CODE', 'NAME', '12m Low', '12m High', 'Day Low', 'Day High',\n",
       "       'Day Price', 'Previous', 'Change', 'Change%', 'Volume', 'Adjust'],\n",
       "      dtype='object')"
      ]
     },
     "execution_count": 6,
     "metadata": {},
     "output_type": "execute_result"
    }
   ],
   "source": [
    "spreadsheet.columns"
   ]
  },
  {
   "cell_type": "code",
   "execution_count": 7,
   "id": "18d49942",
   "metadata": {},
   "outputs": [
    {
     "data": {
      "text/plain": [
       "DATE         object\n",
       "CODE         object\n",
       "NAME         object\n",
       "12m Low      object\n",
       "12m High     object\n",
       "Day Low      object\n",
       "Day High     object\n",
       "Day Price    object\n",
       "Previous     object\n",
       "Change       object\n",
       "Change%      object\n",
       "Volume       object\n",
       "Adjust       object\n",
       "dtype: object"
      ]
     },
     "execution_count": 7,
     "metadata": {},
     "output_type": "execute_result"
    }
   ],
   "source": [
    "spreadsheet.dtypes"
   ]
  },
  {
   "cell_type": "code",
   "execution_count": 8,
   "id": "166a9000",
   "metadata": {},
   "outputs": [
    {
     "data": {
      "text/html": [
       "<div>\n",
       "<style scoped>\n",
       "    .dataframe tbody tr th:only-of-type {\n",
       "        vertical-align: middle;\n",
       "    }\n",
       "\n",
       "    .dataframe tbody tr th {\n",
       "        vertical-align: top;\n",
       "    }\n",
       "\n",
       "    .dataframe thead th {\n",
       "        text-align: right;\n",
       "    }\n",
       "</style>\n",
       "<table border=\"1\" class=\"dataframe\">\n",
       "  <thead>\n",
       "    <tr style=\"text-align: right;\">\n",
       "      <th></th>\n",
       "      <th>DATE</th>\n",
       "      <th>CODE</th>\n",
       "      <th>NAME</th>\n",
       "      <th>12m Low</th>\n",
       "      <th>12m High</th>\n",
       "      <th>Day Low</th>\n",
       "      <th>Day High</th>\n",
       "      <th>Day Price</th>\n",
       "      <th>Previous</th>\n",
       "      <th>Change</th>\n",
       "      <th>Change%</th>\n",
       "      <th>Volume</th>\n",
       "      <th>Adjust</th>\n",
       "    </tr>\n",
       "  </thead>\n",
       "  <tbody>\n",
       "    <tr>\n",
       "      <th>0</th>\n",
       "      <td>03-Jan-17</td>\n",
       "      <td>EGAD</td>\n",
       "      <td>Eaagads Ltd</td>\n",
       "      <td>8.2</td>\n",
       "      <td>14</td>\n",
       "      <td>27.25</td>\n",
       "      <td>28</td>\n",
       "      <td>27.75</td>\n",
       "      <td>27.25</td>\n",
       "      <td>0.5</td>\n",
       "      <td>1.83%</td>\n",
       "      <td>3,500</td>\n",
       "      <td>-</td>\n",
       "    </tr>\n",
       "    <tr>\n",
       "      <th>1</th>\n",
       "      <td>03-Jan-17</td>\n",
       "      <td>KUKZ</td>\n",
       "      <td>Kakuzi Plc</td>\n",
       "      <td>300</td>\n",
       "      <td>423.5</td>\n",
       "      <td>280</td>\n",
       "      <td>280</td>\n",
       "      <td>280</td>\n",
       "      <td>309</td>\n",
       "      <td>-29</td>\n",
       "      <td>9.39%</td>\n",
       "      <td>200</td>\n",
       "      <td>-</td>\n",
       "    </tr>\n",
       "    <tr>\n",
       "      <th>2</th>\n",
       "      <td>03-Jan-17</td>\n",
       "      <td>KAPC</td>\n",
       "      <td>Kapchorua Tea Kenya Plc</td>\n",
       "      <td>59</td>\n",
       "      <td>95</td>\n",
       "      <td>80</td>\n",
       "      <td>80</td>\n",
       "      <td>80</td>\n",
       "      <td>80</td>\n",
       "      <td>-</td>\n",
       "      <td>-</td>\n",
       "      <td>-</td>\n",
       "      <td>-</td>\n",
       "    </tr>\n",
       "    <tr>\n",
       "      <th>3</th>\n",
       "      <td>03-Jan-17</td>\n",
       "      <td>LIMT</td>\n",
       "      <td>Limuru Tea Plc</td>\n",
       "      <td>385</td>\n",
       "      <td>475</td>\n",
       "      <td>530</td>\n",
       "      <td>530</td>\n",
       "      <td>530</td>\n",
       "      <td>530</td>\n",
       "      <td>-</td>\n",
       "      <td>-</td>\n",
       "      <td>100</td>\n",
       "      <td>-</td>\n",
       "    </tr>\n",
       "    <tr>\n",
       "      <th>4</th>\n",
       "      <td>03-Jan-17</td>\n",
       "      <td>SASN</td>\n",
       "      <td>Sasini Plc</td>\n",
       "      <td>14.8</td>\n",
       "      <td>19.6</td>\n",
       "      <td>19.2</td>\n",
       "      <td>21</td>\n",
       "      <td>19.9</td>\n",
       "      <td>19.2</td>\n",
       "      <td>0.7</td>\n",
       "      <td>3.65%</td>\n",
       "      <td>4,900</td>\n",
       "      <td>-</td>\n",
       "    </tr>\n",
       "  </tbody>\n",
       "</table>\n",
       "</div>"
      ],
      "text/plain": [
       "        DATE  CODE                     NAME 12m Low 12m High Day Low Day High  \\\n",
       "0  03-Jan-17  EGAD              Eaagads Ltd     8.2       14   27.25       28   \n",
       "1  03-Jan-17  KUKZ               Kakuzi Plc     300    423.5     280      280   \n",
       "2  03-Jan-17  KAPC  Kapchorua Tea Kenya Plc      59       95      80       80   \n",
       "3  03-Jan-17  LIMT           Limuru Tea Plc     385      475     530      530   \n",
       "4  03-Jan-17  SASN               Sasini Plc    14.8     19.6    19.2       21   \n",
       "\n",
       "  Day Price Previous Change Change% Volume Adjust  \n",
       "0     27.75    27.25    0.5   1.83%  3,500      -  \n",
       "1       280      309    -29   9.39%    200      -  \n",
       "2        80       80      -       -      -      -  \n",
       "3       530      530      -       -    100      -  \n",
       "4      19.9     19.2    0.7   3.65%  4,900      -  "
      ]
     },
     "execution_count": 8,
     "metadata": {},
     "output_type": "execute_result"
    }
   ],
   "source": [
    "# Dropping irrelevant columns\n",
    "Spreadsheet = spreadsheet.drop(['Adjust', 'Volume', 'Change', 'Previous', 'CODE'], axis=1)\n",
    "spreadsheet.head(5)"
   ]
  },
  {
   "cell_type": "code",
   "execution_count": 9,
   "id": "18170628",
   "metadata": {},
   "outputs": [
    {
     "data": {
      "text/plain": [
       "(16981, 13)"
      ]
     },
     "execution_count": 9,
     "metadata": {},
     "output_type": "execute_result"
    }
   ],
   "source": [
    "# Dropping duplicate rows\n",
    "spreadsheet.shape"
   ]
  },
  {
   "cell_type": "code",
   "execution_count": 10,
   "id": "8ef7355e",
   "metadata": {},
   "outputs": [
    {
     "name": "stdout",
     "output_type": "stream",
     "text": [
      "number of duplicate rows:  (69, 13)\n"
     ]
    }
   ],
   "source": [
    "duplicate_rows_spreadsheet = spreadsheet[spreadsheet.duplicated()]\n",
    "print(\"number of duplicate rows: \", duplicate_rows_spreadsheet.shape)"
   ]
  },
  {
   "cell_type": "code",
   "execution_count": 11,
   "id": "fcc466a2",
   "metadata": {},
   "outputs": [
    {
     "data": {
      "text/plain": [
       "DATE         16981\n",
       "CODE         16981\n",
       "NAME         16981\n",
       "12m Low      16981\n",
       "12m High     16981\n",
       "Day Low      16981\n",
       "Day High     16981\n",
       "Day Price    16981\n",
       "Previous     16981\n",
       "Change       16981\n",
       "Change%      16981\n",
       "Volume       16981\n",
       "Adjust       16981\n",
       "dtype: int64"
      ]
     },
     "execution_count": 11,
     "metadata": {},
     "output_type": "execute_result"
    }
   ],
   "source": [
    "# Removing duplicate data\n",
    "spreadsheet.count()"
   ]
  },
  {
   "cell_type": "code",
   "execution_count": 12,
   "id": "02c14edf",
   "metadata": {},
   "outputs": [
    {
     "data": {
      "text/html": [
       "<div>\n",
       "<style scoped>\n",
       "    .dataframe tbody tr th:only-of-type {\n",
       "        vertical-align: middle;\n",
       "    }\n",
       "\n",
       "    .dataframe tbody tr th {\n",
       "        vertical-align: top;\n",
       "    }\n",
       "\n",
       "    .dataframe thead th {\n",
       "        text-align: right;\n",
       "    }\n",
       "</style>\n",
       "<table border=\"1\" class=\"dataframe\">\n",
       "  <thead>\n",
       "    <tr style=\"text-align: right;\">\n",
       "      <th></th>\n",
       "      <th>DATE</th>\n",
       "      <th>CODE</th>\n",
       "      <th>NAME</th>\n",
       "      <th>12m Low</th>\n",
       "      <th>12m High</th>\n",
       "      <th>Day Low</th>\n",
       "      <th>Day High</th>\n",
       "      <th>Day Price</th>\n",
       "      <th>Previous</th>\n",
       "      <th>Change</th>\n",
       "      <th>Change%</th>\n",
       "      <th>Volume</th>\n",
       "      <th>Adjust</th>\n",
       "    </tr>\n",
       "  </thead>\n",
       "  <tbody>\n",
       "    <tr>\n",
       "      <th>0</th>\n",
       "      <td>03-Jan-17</td>\n",
       "      <td>EGAD</td>\n",
       "      <td>Eaagads Ltd</td>\n",
       "      <td>8.2</td>\n",
       "      <td>14</td>\n",
       "      <td>27.25</td>\n",
       "      <td>28</td>\n",
       "      <td>27.75</td>\n",
       "      <td>27.25</td>\n",
       "      <td>0.5</td>\n",
       "      <td>1.83%</td>\n",
       "      <td>3,500</td>\n",
       "      <td>-</td>\n",
       "    </tr>\n",
       "    <tr>\n",
       "      <th>1</th>\n",
       "      <td>03-Jan-17</td>\n",
       "      <td>KUKZ</td>\n",
       "      <td>Kakuzi Plc</td>\n",
       "      <td>300</td>\n",
       "      <td>423.5</td>\n",
       "      <td>280</td>\n",
       "      <td>280</td>\n",
       "      <td>280</td>\n",
       "      <td>309</td>\n",
       "      <td>-29</td>\n",
       "      <td>9.39%</td>\n",
       "      <td>200</td>\n",
       "      <td>-</td>\n",
       "    </tr>\n",
       "    <tr>\n",
       "      <th>2</th>\n",
       "      <td>03-Jan-17</td>\n",
       "      <td>KAPC</td>\n",
       "      <td>Kapchorua Tea Kenya Plc</td>\n",
       "      <td>59</td>\n",
       "      <td>95</td>\n",
       "      <td>80</td>\n",
       "      <td>80</td>\n",
       "      <td>80</td>\n",
       "      <td>80</td>\n",
       "      <td>-</td>\n",
       "      <td>-</td>\n",
       "      <td>-</td>\n",
       "      <td>-</td>\n",
       "    </tr>\n",
       "    <tr>\n",
       "      <th>3</th>\n",
       "      <td>03-Jan-17</td>\n",
       "      <td>LIMT</td>\n",
       "      <td>Limuru Tea Plc</td>\n",
       "      <td>385</td>\n",
       "      <td>475</td>\n",
       "      <td>530</td>\n",
       "      <td>530</td>\n",
       "      <td>530</td>\n",
       "      <td>530</td>\n",
       "      <td>-</td>\n",
       "      <td>-</td>\n",
       "      <td>100</td>\n",
       "      <td>-</td>\n",
       "    </tr>\n",
       "    <tr>\n",
       "      <th>4</th>\n",
       "      <td>03-Jan-17</td>\n",
       "      <td>SASN</td>\n",
       "      <td>Sasini Plc</td>\n",
       "      <td>14.8</td>\n",
       "      <td>19.6</td>\n",
       "      <td>19.2</td>\n",
       "      <td>21</td>\n",
       "      <td>19.9</td>\n",
       "      <td>19.2</td>\n",
       "      <td>0.7</td>\n",
       "      <td>3.65%</td>\n",
       "      <td>4,900</td>\n",
       "      <td>-</td>\n",
       "    </tr>\n",
       "  </tbody>\n",
       "</table>\n",
       "</div>"
      ],
      "text/plain": [
       "        DATE  CODE                     NAME 12m Low 12m High Day Low Day High  \\\n",
       "0  03-Jan-17  EGAD              Eaagads Ltd     8.2       14   27.25       28   \n",
       "1  03-Jan-17  KUKZ               Kakuzi Plc     300    423.5     280      280   \n",
       "2  03-Jan-17  KAPC  Kapchorua Tea Kenya Plc      59       95      80       80   \n",
       "3  03-Jan-17  LIMT           Limuru Tea Plc     385      475     530      530   \n",
       "4  03-Jan-17  SASN               Sasini Plc    14.8     19.6    19.2       21   \n",
       "\n",
       "  Day Price Previous Change Change% Volume Adjust  \n",
       "0     27.75    27.25    0.5   1.83%  3,500      -  \n",
       "1       280      309    -29   9.39%    200      -  \n",
       "2        80       80      -       -      -      -  \n",
       "3       530      530      -       -    100      -  \n",
       "4      19.9     19.2    0.7   3.65%  4,900      -  "
      ]
     },
     "execution_count": 12,
     "metadata": {},
     "output_type": "execute_result"
    }
   ],
   "source": [
    "spreadsheet = spreadsheet.drop_duplicates()\n",
    "spreadsheet.head(5)"
   ]
  },
  {
   "cell_type": "code",
   "execution_count": 14,
   "id": "5b551dbe",
   "metadata": {},
   "outputs": [
    {
     "data": {
      "text/plain": [
       "DATE         16912\n",
       "CODE         16912\n",
       "NAME         16912\n",
       "12m Low      16912\n",
       "12m High     16912\n",
       "Day Low      16912\n",
       "Day High     16912\n",
       "Day Price    16912\n",
       "Previous     16912\n",
       "Change       16912\n",
       "Change%      16912\n",
       "Volume       16912\n",
       "Adjust       16912\n",
       "dtype: int64"
      ]
     },
     "execution_count": 14,
     "metadata": {},
     "output_type": "execute_result"
    }
   ],
   "source": [
    "# After removing duplicate data\n",
    "spreadsheet.count()"
   ]
  },
  {
   "cell_type": "code",
   "execution_count": 15,
   "id": "37740834",
   "metadata": {},
   "outputs": [
    {
     "name": "stdout",
     "output_type": "stream",
     "text": [
      "DATE         0\n",
      "CODE         0\n",
      "NAME         0\n",
      "12m Low      0\n",
      "12m High     0\n",
      "Day Low      0\n",
      "Day High     0\n",
      "Day Price    0\n",
      "Previous     0\n",
      "Change       0\n",
      "Change%      0\n",
      "Volume       0\n",
      "Adjust       0\n",
      "dtype: int64\n"
     ]
    }
   ],
   "source": [
    "# Dropping missing or null values\n",
    "print(spreadsheet.isnull().sum())"
   ]
  },
  {
   "cell_type": "code",
   "execution_count": 16,
   "id": "4b4eec4e",
   "metadata": {},
   "outputs": [
    {
     "data": {
      "text/plain": [
       "DATE         16912\n",
       "CODE         16912\n",
       "NAME         16912\n",
       "12m Low      16912\n",
       "12m High     16912\n",
       "Day Low      16912\n",
       "Day High     16912\n",
       "Day Price    16912\n",
       "Previous     16912\n",
       "Change       16912\n",
       "Change%      16912\n",
       "Volume       16912\n",
       "Adjust       16912\n",
       "dtype: int64"
      ]
     },
     "execution_count": 16,
     "metadata": {},
     "output_type": "execute_result"
    }
   ],
   "source": [
    "# Dropping missing values\n",
    "spreadsheet = spreadsheet.dropna()\n",
    "spreadsheet.count()"
   ]
  },
  {
   "cell_type": "code",
   "execution_count": 17,
   "id": "2adc1315",
   "metadata": {},
   "outputs": [
    {
     "data": {
      "text/plain": [
       "DATE         16912\n",
       "CODE         16912\n",
       "NAME         16912\n",
       "12m Low      16912\n",
       "12m High     16912\n",
       "Day Low      16912\n",
       "Day High     16912\n",
       "Day Price    16912\n",
       "Previous     16912\n",
       "Change       16912\n",
       "Change%      16912\n",
       "Volume       16912\n",
       "Adjust       16912\n",
       "dtype: int64"
      ]
     },
     "execution_count": 17,
     "metadata": {},
     "output_type": "execute_result"
    }
   ],
   "source": [
    "# Dropping missing values\n",
    "spreadsheet = spreadsheet.dropna()\n",
    "spreadsheet.count()"
   ]
  },
  {
   "cell_type": "code",
   "execution_count": 18,
   "id": "7ab48956",
   "metadata": {},
   "outputs": [
    {
     "name": "stdout",
     "output_type": "stream",
     "text": [
      "DATE         0\n",
      "CODE         0\n",
      "NAME         0\n",
      "12m Low      0\n",
      "12m High     0\n",
      "Day Low      0\n",
      "Day High     0\n",
      "Day Price    0\n",
      "Previous     0\n",
      "Change       0\n",
      "Change%      0\n",
      "Volume       0\n",
      "Adjust       0\n",
      "dtype: int64\n"
     ]
    }
   ],
   "source": [
    "# After dropping the values\n",
    "print(spreadsheet.isnull().sum())"
   ]
  },
  {
   "cell_type": "code",
   "execution_count": null,
   "id": "0d2c1d92",
   "metadata": {},
   "outputs": [],
   "source": []
  }
 ],
 "metadata": {
  "kernelspec": {
   "display_name": "Python 3 (ipykernel)",
   "language": "python",
   "name": "python3"
  },
  "language_info": {
   "codemirror_mode": {
    "name": "ipython",
    "version": 3
   },
   "file_extension": ".py",
   "mimetype": "text/x-python",
   "name": "python",
   "nbconvert_exporter": "python",
   "pygments_lexer": "ipython3",
   "version": "3.9.12"
  }
 },
 "nbformat": 4,
 "nbformat_minor": 5
}
