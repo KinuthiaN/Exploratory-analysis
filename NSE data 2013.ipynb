{
 "cells": [
  {
   "cell_type": "code",
   "execution_count": 22,
   "id": "8e6180d4",
   "metadata": {},
   "outputs": [],
   "source": [
    "# Importing modules\n",
    "import numpy as np\n",
    "import pandas as pd\n",
    "import seaborn as sns\n",
    "import matplotlib.pyplot as plt\n",
    "from matplotlib import gridspec\n",
    "%matplotlib inline\n",
    "sns.set(color_codes=True)"
   ]
  },
  {
   "cell_type": "code",
   "execution_count": 4,
   "id": "80ead5b6",
   "metadata": {},
   "outputs": [],
   "source": [
    "# read the dataset\n",
    "spreadsheet=pd.read_csv('/Users/Hp/Downloads/NSE_data_all_stocks_2013.csv')"
   ]
  },
  {
   "cell_type": "code",
   "execution_count": 5,
   "id": "7a50be58",
   "metadata": {},
   "outputs": [
    {
     "name": "stdout",
     "output_type": "stream",
     "text": [
      "<class 'pandas.core.frame.DataFrame'>\n",
      "RangeIndex: 14889 entries, 0 to 14888\n",
      "Data columns (total 13 columns):\n",
      " #   Column     Non-Null Count  Dtype \n",
      "---  ------     --------------  ----- \n",
      " 0   DATE       14889 non-null  object\n",
      " 1   CODE       14889 non-null  object\n",
      " 2   NAME       14889 non-null  object\n",
      " 3   12m Low    14889 non-null  object\n",
      " 4   12m High   14889 non-null  object\n",
      " 5   Day Low    14889 non-null  object\n",
      " 6   Day High   14889 non-null  object\n",
      " 7   Day Price  14889 non-null  object\n",
      " 8   Previous   14889 non-null  object\n",
      " 9   Change     14889 non-null  object\n",
      " 10  Change%    14889 non-null  object\n",
      " 11  Volume     14889 non-null  object\n",
      " 12  Adjust     14889 non-null  object\n",
      "dtypes: object(13)\n",
      "memory usage: 1.5+ MB\n"
     ]
    }
   ],
   "source": [
    "spreadsheet.info()"
   ]
  },
  {
   "cell_type": "code",
   "execution_count": 6,
   "id": "a5ba3338",
   "metadata": {},
   "outputs": [
    {
     "data": {
      "text/html": [
       "<div>\n",
       "<style scoped>\n",
       "    .dataframe tbody tr th:only-of-type {\n",
       "        vertical-align: middle;\n",
       "    }\n",
       "\n",
       "    .dataframe tbody tr th {\n",
       "        vertical-align: top;\n",
       "    }\n",
       "\n",
       "    .dataframe thead th {\n",
       "        text-align: right;\n",
       "    }\n",
       "</style>\n",
       "<table border=\"1\" class=\"dataframe\">\n",
       "  <thead>\n",
       "    <tr style=\"text-align: right;\">\n",
       "      <th></th>\n",
       "      <th>DATE</th>\n",
       "      <th>CODE</th>\n",
       "      <th>NAME</th>\n",
       "      <th>12m Low</th>\n",
       "      <th>12m High</th>\n",
       "      <th>Day Low</th>\n",
       "      <th>Day High</th>\n",
       "      <th>Day Price</th>\n",
       "      <th>Previous</th>\n",
       "      <th>Change</th>\n",
       "      <th>Change%</th>\n",
       "      <th>Volume</th>\n",
       "      <th>Adjust</th>\n",
       "    </tr>\n",
       "  </thead>\n",
       "  <tbody>\n",
       "    <tr>\n",
       "      <th>count</th>\n",
       "      <td>14889</td>\n",
       "      <td>14889</td>\n",
       "      <td>14889</td>\n",
       "      <td>14889</td>\n",
       "      <td>14889</td>\n",
       "      <td>14889</td>\n",
       "      <td>14889</td>\n",
       "      <td>14889</td>\n",
       "      <td>14889</td>\n",
       "      <td>14889</td>\n",
       "      <td>14889</td>\n",
       "      <td>14889</td>\n",
       "      <td>14889</td>\n",
       "    </tr>\n",
       "    <tr>\n",
       "      <th>unique</th>\n",
       "      <td>247</td>\n",
       "      <td>62</td>\n",
       "      <td>62</td>\n",
       "      <td>90</td>\n",
       "      <td>101</td>\n",
       "      <td>1811</td>\n",
       "      <td>1807</td>\n",
       "      <td>2146</td>\n",
       "      <td>2147</td>\n",
       "      <td>677</td>\n",
       "      <td>785</td>\n",
       "      <td>4443</td>\n",
       "      <td>1040</td>\n",
       "    </tr>\n",
       "    <tr>\n",
       "      <th>top</th>\n",
       "      <td>31-Dec-13</td>\n",
       "      <td>EGAD</td>\n",
       "      <td>Eaagads Ltd</td>\n",
       "      <td>2</td>\n",
       "      <td>55.5</td>\n",
       "      <td>5.5</td>\n",
       "      <td>3</td>\n",
       "      <td>5.5</td>\n",
       "      <td>5.5</td>\n",
       "      <td>-</td>\n",
       "      <td>-</td>\n",
       "      <td>-</td>\n",
       "      <td>-</td>\n",
       "    </tr>\n",
       "    <tr>\n",
       "      <th>freq</th>\n",
       "      <td>62</td>\n",
       "      <td>247</td>\n",
       "      <td>247</td>\n",
       "      <td>476</td>\n",
       "      <td>494</td>\n",
       "      <td>269</td>\n",
       "      <td>273</td>\n",
       "      <td>262</td>\n",
       "      <td>262</td>\n",
       "      <td>5096</td>\n",
       "      <td>5099</td>\n",
       "      <td>3231</td>\n",
       "      <td>10521</td>\n",
       "    </tr>\n",
       "  </tbody>\n",
       "</table>\n",
       "</div>"
      ],
      "text/plain": [
       "             DATE   CODE         NAME 12m Low 12m High Day Low Day High  \\\n",
       "count       14889  14889        14889   14889    14889   14889    14889   \n",
       "unique        247     62           62      90      101    1811     1807   \n",
       "top     31-Dec-13   EGAD  Eaagads Ltd       2     55.5     5.5        3   \n",
       "freq           62    247          247     476      494     269      273   \n",
       "\n",
       "       Day Price Previous Change Change% Volume Adjust  \n",
       "count      14889    14889  14889   14889  14889  14889  \n",
       "unique      2146     2147    677     785   4443   1040  \n",
       "top          5.5      5.5      -       -      -      -  \n",
       "freq         262      262   5096    5099   3231  10521  "
      ]
     },
     "execution_count": 6,
     "metadata": {},
     "output_type": "execute_result"
    }
   ],
   "source": [
    "spreadsheet.describe()"
   ]
  },
  {
   "cell_type": "code",
   "execution_count": 7,
   "id": "fed35a11",
   "metadata": {},
   "outputs": [
    {
     "data": {
      "text/plain": [
       "Index(['DATE', 'CODE', 'NAME', '12m Low', '12m High', 'Day Low', 'Day High',\n",
       "       'Day Price', 'Previous', 'Change', 'Change%', 'Volume', 'Adjust'],\n",
       "      dtype='object')"
      ]
     },
     "execution_count": 7,
     "metadata": {},
     "output_type": "execute_result"
    }
   ],
   "source": [
    "spreadsheet.columns"
   ]
  },
  {
   "cell_type": "code",
   "execution_count": 28,
   "id": "ec3132c9",
   "metadata": {},
   "outputs": [
    {
     "data": {
      "text/plain": [
       "DATE         object\n",
       "CODE         object\n",
       "NAME         object\n",
       "12m Low      object\n",
       "12m High     object\n",
       "Day Low      object\n",
       "Day High     object\n",
       "Day Price    object\n",
       "Previous     object\n",
       "Change       object\n",
       "Change%      object\n",
       "Volume       object\n",
       "Adjust       object\n",
       "dtype: object"
      ]
     },
     "execution_count": 28,
     "metadata": {},
     "output_type": "execute_result"
    }
   ],
   "source": [
    "spreadsheet.dtypes"
   ]
  },
  {
   "cell_type": "code",
   "execution_count": 29,
   "id": "0e3d03f0",
   "metadata": {},
   "outputs": [
    {
     "data": {
      "text/html": [
       "<div>\n",
       "<style scoped>\n",
       "    .dataframe tbody tr th:only-of-type {\n",
       "        vertical-align: middle;\n",
       "    }\n",
       "\n",
       "    .dataframe tbody tr th {\n",
       "        vertical-align: top;\n",
       "    }\n",
       "\n",
       "    .dataframe thead th {\n",
       "        text-align: right;\n",
       "    }\n",
       "</style>\n",
       "<table border=\"1\" class=\"dataframe\">\n",
       "  <thead>\n",
       "    <tr style=\"text-align: right;\">\n",
       "      <th></th>\n",
       "      <th>DATE</th>\n",
       "      <th>CODE</th>\n",
       "      <th>NAME</th>\n",
       "      <th>12m Low</th>\n",
       "      <th>12m High</th>\n",
       "      <th>Day Low</th>\n",
       "      <th>Day High</th>\n",
       "      <th>Day Price</th>\n",
       "      <th>Previous</th>\n",
       "      <th>Change</th>\n",
       "      <th>Change%</th>\n",
       "      <th>Volume</th>\n",
       "      <th>Adjust</th>\n",
       "    </tr>\n",
       "  </thead>\n",
       "  <tbody>\n",
       "    <tr>\n",
       "      <th>0</th>\n",
       "      <td>2-Jan-13</td>\n",
       "      <td>EGAD</td>\n",
       "      <td>Eaagads Ltd</td>\n",
       "      <td>8.2</td>\n",
       "      <td>14</td>\n",
       "      <td>25</td>\n",
       "      <td>25</td>\n",
       "      <td>25</td>\n",
       "      <td>25</td>\n",
       "      <td>-</td>\n",
       "      <td>-</td>\n",
       "      <td>-</td>\n",
       "      <td>-</td>\n",
       "    </tr>\n",
       "    <tr>\n",
       "      <th>1</th>\n",
       "      <td>2-Jan-13</td>\n",
       "      <td>KUKZ</td>\n",
       "      <td>Kakuzi Plc</td>\n",
       "      <td>300</td>\n",
       "      <td>423.5</td>\n",
       "      <td>67.5</td>\n",
       "      <td>67.5</td>\n",
       "      <td>67.5</td>\n",
       "      <td>72</td>\n",
       "      <td>-4.5</td>\n",
       "      <td>6.25%</td>\n",
       "      <td>300</td>\n",
       "      <td>-</td>\n",
       "    </tr>\n",
       "    <tr>\n",
       "      <th>2</th>\n",
       "      <td>2-Jan-13</td>\n",
       "      <td>KAPC</td>\n",
       "      <td>Kapchorua Tea Kenya Plc</td>\n",
       "      <td>59</td>\n",
       "      <td>95</td>\n",
       "      <td>118</td>\n",
       "      <td>118</td>\n",
       "      <td>118</td>\n",
       "      <td>118</td>\n",
       "      <td>-</td>\n",
       "      <td>-</td>\n",
       "      <td>-</td>\n",
       "      <td>59</td>\n",
       "    </tr>\n",
       "    <tr>\n",
       "      <th>3</th>\n",
       "      <td>2-Jan-13</td>\n",
       "      <td>LIMT</td>\n",
       "      <td>Limuru Tea Plc</td>\n",
       "      <td>385</td>\n",
       "      <td>475</td>\n",
       "      <td>430</td>\n",
       "      <td>430</td>\n",
       "      <td>430</td>\n",
       "      <td>430</td>\n",
       "      <td>-</td>\n",
       "      <td>-</td>\n",
       "      <td>-</td>\n",
       "      <td>215</td>\n",
       "    </tr>\n",
       "    <tr>\n",
       "      <th>4</th>\n",
       "      <td>2-Jan-13</td>\n",
       "      <td>SASN</td>\n",
       "      <td>Sasini Plc</td>\n",
       "      <td>14.8</td>\n",
       "      <td>19.6</td>\n",
       "      <td>11.7</td>\n",
       "      <td>12.05</td>\n",
       "      <td>11.9</td>\n",
       "      <td>11.7</td>\n",
       "      <td>0.2</td>\n",
       "      <td>1.71%</td>\n",
       "      <td>14,500</td>\n",
       "      <td>-</td>\n",
       "    </tr>\n",
       "  </tbody>\n",
       "</table>\n",
       "</div>"
      ],
      "text/plain": [
       "       DATE  CODE                     NAME 12m Low 12m High Day Low Day High  \\\n",
       "0  2-Jan-13  EGAD              Eaagads Ltd     8.2       14      25       25   \n",
       "1  2-Jan-13  KUKZ               Kakuzi Plc     300    423.5    67.5     67.5   \n",
       "2  2-Jan-13  KAPC  Kapchorua Tea Kenya Plc      59       95     118      118   \n",
       "3  2-Jan-13  LIMT           Limuru Tea Plc     385      475     430      430   \n",
       "4  2-Jan-13  SASN               Sasini Plc    14.8     19.6    11.7    12.05   \n",
       "\n",
       "  Day Price Previous Change Change%  Volume Adjust  \n",
       "0        25       25      -       -       -      -  \n",
       "1      67.5       72   -4.5   6.25%     300      -  \n",
       "2       118      118      -       -       -     59  \n",
       "3       430      430      -       -       -    215  \n",
       "4      11.9     11.7    0.2   1.71%  14,500      -  "
      ]
     },
     "execution_count": 29,
     "metadata": {},
     "output_type": "execute_result"
    }
   ],
   "source": [
    "# Dropping irrelevant columns\n",
    "Spreadsheet = spreadsheet.drop(['Adjust', 'Volume', 'Change', 'Previous', 'CODE'], axis=1)\n",
    "spreadsheet.head(5)"
   ]
  },
  {
   "cell_type": "code",
   "execution_count": 30,
   "id": "7db4f891",
   "metadata": {},
   "outputs": [
    {
     "data": {
      "text/plain": [
       "(14889, 13)"
      ]
     },
     "execution_count": 30,
     "metadata": {},
     "output_type": "execute_result"
    }
   ],
   "source": [
    "# Dropping duplicate rows\n",
    "spreadsheet.shape"
   ]
  },
  {
   "cell_type": "code",
   "execution_count": 31,
   "id": "a84f988e",
   "metadata": {},
   "outputs": [
    {
     "name": "stdout",
     "output_type": "stream",
     "text": [
      "number of duplicate rows:  (0, 13)\n"
     ]
    }
   ],
   "source": [
    "duplicate_rows_spreadsheet = spreadsheet[spreadsheet.duplicated()]\n",
    "print(\"number of duplicate rows: \", duplicate_rows_spreadsheet.shape)"
   ]
  },
  {
   "cell_type": "code",
   "execution_count": 32,
   "id": "0d4ba4c5",
   "metadata": {},
   "outputs": [
    {
     "data": {
      "text/plain": [
       "DATE         14889\n",
       "CODE         14889\n",
       "NAME         14889\n",
       "12m Low      14889\n",
       "12m High     14889\n",
       "Day Low      14889\n",
       "Day High     14889\n",
       "Day Price    14889\n",
       "Previous     14889\n",
       "Change       14889\n",
       "Change%      14889\n",
       "Volume       14889\n",
       "Adjust       14889\n",
       "dtype: int64"
      ]
     },
     "execution_count": 32,
     "metadata": {},
     "output_type": "execute_result"
    }
   ],
   "source": [
    "# Removing duplicate data\n",
    "spreadsheet.count()"
   ]
  },
  {
   "cell_type": "code",
   "execution_count": 33,
   "id": "55479d44",
   "metadata": {},
   "outputs": [
    {
     "data": {
      "text/html": [
       "<div>\n",
       "<style scoped>\n",
       "    .dataframe tbody tr th:only-of-type {\n",
       "        vertical-align: middle;\n",
       "    }\n",
       "\n",
       "    .dataframe tbody tr th {\n",
       "        vertical-align: top;\n",
       "    }\n",
       "\n",
       "    .dataframe thead th {\n",
       "        text-align: right;\n",
       "    }\n",
       "</style>\n",
       "<table border=\"1\" class=\"dataframe\">\n",
       "  <thead>\n",
       "    <tr style=\"text-align: right;\">\n",
       "      <th></th>\n",
       "      <th>DATE</th>\n",
       "      <th>CODE</th>\n",
       "      <th>NAME</th>\n",
       "      <th>12m Low</th>\n",
       "      <th>12m High</th>\n",
       "      <th>Day Low</th>\n",
       "      <th>Day High</th>\n",
       "      <th>Day Price</th>\n",
       "      <th>Previous</th>\n",
       "      <th>Change</th>\n",
       "      <th>Change%</th>\n",
       "      <th>Volume</th>\n",
       "      <th>Adjust</th>\n",
       "    </tr>\n",
       "  </thead>\n",
       "  <tbody>\n",
       "    <tr>\n",
       "      <th>0</th>\n",
       "      <td>2-Jan-13</td>\n",
       "      <td>EGAD</td>\n",
       "      <td>Eaagads Ltd</td>\n",
       "      <td>8.2</td>\n",
       "      <td>14</td>\n",
       "      <td>25</td>\n",
       "      <td>25</td>\n",
       "      <td>25</td>\n",
       "      <td>25</td>\n",
       "      <td>-</td>\n",
       "      <td>-</td>\n",
       "      <td>-</td>\n",
       "      <td>-</td>\n",
       "    </tr>\n",
       "    <tr>\n",
       "      <th>1</th>\n",
       "      <td>2-Jan-13</td>\n",
       "      <td>KUKZ</td>\n",
       "      <td>Kakuzi Plc</td>\n",
       "      <td>300</td>\n",
       "      <td>423.5</td>\n",
       "      <td>67.5</td>\n",
       "      <td>67.5</td>\n",
       "      <td>67.5</td>\n",
       "      <td>72</td>\n",
       "      <td>-4.5</td>\n",
       "      <td>6.25%</td>\n",
       "      <td>300</td>\n",
       "      <td>-</td>\n",
       "    </tr>\n",
       "    <tr>\n",
       "      <th>2</th>\n",
       "      <td>2-Jan-13</td>\n",
       "      <td>KAPC</td>\n",
       "      <td>Kapchorua Tea Kenya Plc</td>\n",
       "      <td>59</td>\n",
       "      <td>95</td>\n",
       "      <td>118</td>\n",
       "      <td>118</td>\n",
       "      <td>118</td>\n",
       "      <td>118</td>\n",
       "      <td>-</td>\n",
       "      <td>-</td>\n",
       "      <td>-</td>\n",
       "      <td>59</td>\n",
       "    </tr>\n",
       "    <tr>\n",
       "      <th>3</th>\n",
       "      <td>2-Jan-13</td>\n",
       "      <td>LIMT</td>\n",
       "      <td>Limuru Tea Plc</td>\n",
       "      <td>385</td>\n",
       "      <td>475</td>\n",
       "      <td>430</td>\n",
       "      <td>430</td>\n",
       "      <td>430</td>\n",
       "      <td>430</td>\n",
       "      <td>-</td>\n",
       "      <td>-</td>\n",
       "      <td>-</td>\n",
       "      <td>215</td>\n",
       "    </tr>\n",
       "    <tr>\n",
       "      <th>4</th>\n",
       "      <td>2-Jan-13</td>\n",
       "      <td>SASN</td>\n",
       "      <td>Sasini Plc</td>\n",
       "      <td>14.8</td>\n",
       "      <td>19.6</td>\n",
       "      <td>11.7</td>\n",
       "      <td>12.05</td>\n",
       "      <td>11.9</td>\n",
       "      <td>11.7</td>\n",
       "      <td>0.2</td>\n",
       "      <td>1.71%</td>\n",
       "      <td>14,500</td>\n",
       "      <td>-</td>\n",
       "    </tr>\n",
       "  </tbody>\n",
       "</table>\n",
       "</div>"
      ],
      "text/plain": [
       "       DATE  CODE                     NAME 12m Low 12m High Day Low Day High  \\\n",
       "0  2-Jan-13  EGAD              Eaagads Ltd     8.2       14      25       25   \n",
       "1  2-Jan-13  KUKZ               Kakuzi Plc     300    423.5    67.5     67.5   \n",
       "2  2-Jan-13  KAPC  Kapchorua Tea Kenya Plc      59       95     118      118   \n",
       "3  2-Jan-13  LIMT           Limuru Tea Plc     385      475     430      430   \n",
       "4  2-Jan-13  SASN               Sasini Plc    14.8     19.6    11.7    12.05   \n",
       "\n",
       "  Day Price Previous Change Change%  Volume Adjust  \n",
       "0        25       25      -       -       -      -  \n",
       "1      67.5       72   -4.5   6.25%     300      -  \n",
       "2       118      118      -       -       -     59  \n",
       "3       430      430      -       -       -    215  \n",
       "4      11.9     11.7    0.2   1.71%  14,500      -  "
      ]
     },
     "execution_count": 33,
     "metadata": {},
     "output_type": "execute_result"
    }
   ],
   "source": [
    "spreadsheet = spreadsheet.drop_duplicates()\n",
    "spreadsheet.head(5)"
   ]
  },
  {
   "cell_type": "code",
   "execution_count": 34,
   "id": "298997ef",
   "metadata": {},
   "outputs": [
    {
     "data": {
      "text/plain": [
       "DATE         14889\n",
       "CODE         14889\n",
       "NAME         14889\n",
       "12m Low      14889\n",
       "12m High     14889\n",
       "Day Low      14889\n",
       "Day High     14889\n",
       "Day Price    14889\n",
       "Previous     14889\n",
       "Change       14889\n",
       "Change%      14889\n",
       "Volume       14889\n",
       "Adjust       14889\n",
       "dtype: int64"
      ]
     },
     "execution_count": 34,
     "metadata": {},
     "output_type": "execute_result"
    }
   ],
   "source": [
    "spreadsheet.count()"
   ]
  },
  {
   "cell_type": "code",
   "execution_count": 35,
   "id": "e0abff79",
   "metadata": {},
   "outputs": [
    {
     "name": "stdout",
     "output_type": "stream",
     "text": [
      "DATE         0\n",
      "CODE         0\n",
      "NAME         0\n",
      "12m Low      0\n",
      "12m High     0\n",
      "Day Low      0\n",
      "Day High     0\n",
      "Day Price    0\n",
      "Previous     0\n",
      "Change       0\n",
      "Change%      0\n",
      "Volume       0\n",
      "Adjust       0\n",
      "dtype: int64\n"
     ]
    }
   ],
   "source": [
    "# Dropping missing or null values\n",
    "print(spreadsheet.isnull().sum())"
   ]
  },
  {
   "cell_type": "code",
   "execution_count": 36,
   "id": "1347e320",
   "metadata": {},
   "outputs": [
    {
     "data": {
      "text/plain": [
       "DATE         14889\n",
       "CODE         14889\n",
       "NAME         14889\n",
       "12m Low      14889\n",
       "12m High     14889\n",
       "Day Low      14889\n",
       "Day High     14889\n",
       "Day Price    14889\n",
       "Previous     14889\n",
       "Change       14889\n",
       "Change%      14889\n",
       "Volume       14889\n",
       "Adjust       14889\n",
       "dtype: int64"
      ]
     },
     "execution_count": 36,
     "metadata": {},
     "output_type": "execute_result"
    }
   ],
   "source": [
    "# Dropping missing values\n",
    "spreadsheet = spreadsheet.dropna()\n",
    "spreadsheet.count()"
   ]
  },
  {
   "cell_type": "code",
   "execution_count": 37,
   "id": "5c8074a0",
   "metadata": {},
   "outputs": [
    {
     "name": "stdout",
     "output_type": "stream",
     "text": [
      "DATE         0\n",
      "CODE         0\n",
      "NAME         0\n",
      "12m Low      0\n",
      "12m High     0\n",
      "Day Low      0\n",
      "Day High     0\n",
      "Day Price    0\n",
      "Previous     0\n",
      "Change       0\n",
      "Change%      0\n",
      "Volume       0\n",
      "Adjust       0\n",
      "dtype: int64\n"
     ]
    }
   ],
   "source": [
    "# After dropping the values\n",
    "print(spreadsheet.isnull().sum())"
   ]
  }
 ],
 "metadata": {
  "kernelspec": {
   "display_name": "Python 3 (ipykernel)",
   "language": "python",
   "name": "python3"
  },
  "language_info": {
   "codemirror_mode": {
    "name": "ipython",
    "version": 3
   },
   "file_extension": ".py",
   "mimetype": "text/x-python",
   "name": "python",
   "nbconvert_exporter": "python",
   "pygments_lexer": "ipython3",
   "version": "3.9.12"
  }
 },
 "nbformat": 4,
 "nbformat_minor": 5
}
