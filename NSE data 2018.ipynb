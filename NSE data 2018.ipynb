{
 "cells": [
  {
   "cell_type": "code",
   "execution_count": 1,
   "id": "786cae9c",
   "metadata": {},
   "outputs": [],
   "source": [
    "# Importing modules\n",
    "import numpy as np\n",
    "import pandas as pd\n",
    "import matplotlib.pyplot as plt\n",
    "import seaborn as sns\n",
    "from matplotlib import gridspec\n",
    "%matplotlib inline\n",
    "sns.set(color_codes=True)"
   ]
  },
  {
   "cell_type": "code",
   "execution_count": 3,
   "id": "ab7c3b85",
   "metadata": {},
   "outputs": [],
   "source": [
    "# read the dataset\n",
    "spreadsheet=pd.read_csv('/Users/Hp/Downloads/NSE_data_all_stocks_2018.csv')"
   ]
  },
  {
   "cell_type": "code",
   "execution_count": 4,
   "id": "f90e3377",
   "metadata": {},
   "outputs": [
    {
     "name": "stdout",
     "output_type": "stream",
     "text": [
      "<class 'pandas.core.frame.DataFrame'>\n",
      "RangeIndex: 17651 entries, 0 to 17650\n",
      "Data columns (total 13 columns):\n",
      " #   Column     Non-Null Count  Dtype \n",
      "---  ------     --------------  ----- \n",
      " 0   DATE       17650 non-null  object\n",
      " 1   CODE       17650 non-null  object\n",
      " 2   NAME       17650 non-null  object\n",
      " 3   12m Low    17650 non-null  object\n",
      " 4   12m High   17650 non-null  object\n",
      " 5   Day Low    17650 non-null  object\n",
      " 6   Day High   17650 non-null  object\n",
      " 7   Day Price  17650 non-null  object\n",
      " 8   Previous   17650 non-null  object\n",
      " 9   Change     17650 non-null  object\n",
      " 10  Change%    17650 non-null  object\n",
      " 11  Volume     17650 non-null  object\n",
      " 12  Adjust     17650 non-null  object\n",
      "dtypes: object(13)\n",
      "memory usage: 1.8+ MB\n"
     ]
    }
   ],
   "source": [
    "spreadsheet.info()"
   ]
  },
  {
   "cell_type": "code",
   "execution_count": 5,
   "id": "a96526cc",
   "metadata": {},
   "outputs": [
    {
     "data": {
      "text/html": [
       "<div>\n",
       "<style scoped>\n",
       "    .dataframe tbody tr th:only-of-type {\n",
       "        vertical-align: middle;\n",
       "    }\n",
       "\n",
       "    .dataframe tbody tr th {\n",
       "        vertical-align: top;\n",
       "    }\n",
       "\n",
       "    .dataframe thead th {\n",
       "        text-align: right;\n",
       "    }\n",
       "</style>\n",
       "<table border=\"1\" class=\"dataframe\">\n",
       "  <thead>\n",
       "    <tr style=\"text-align: right;\">\n",
       "      <th></th>\n",
       "      <th>DATE</th>\n",
       "      <th>CODE</th>\n",
       "      <th>NAME</th>\n",
       "      <th>12m Low</th>\n",
       "      <th>12m High</th>\n",
       "      <th>Day Low</th>\n",
       "      <th>Day High</th>\n",
       "      <th>Day Price</th>\n",
       "      <th>Previous</th>\n",
       "      <th>Change</th>\n",
       "      <th>Change%</th>\n",
       "      <th>Volume</th>\n",
       "      <th>Adjust</th>\n",
       "    </tr>\n",
       "  </thead>\n",
       "  <tbody>\n",
       "    <tr>\n",
       "      <th>count</th>\n",
       "      <td>17650</td>\n",
       "      <td>17650</td>\n",
       "      <td>17650</td>\n",
       "      <td>17650</td>\n",
       "      <td>17650</td>\n",
       "      <td>17650</td>\n",
       "      <td>17650</td>\n",
       "      <td>17650</td>\n",
       "      <td>17650</td>\n",
       "      <td>17650</td>\n",
       "      <td>17650</td>\n",
       "      <td>17650</td>\n",
       "      <td>17650</td>\n",
       "    </tr>\n",
       "    <tr>\n",
       "      <th>unique</th>\n",
       "      <td>250</td>\n",
       "      <td>73</td>\n",
       "      <td>73</td>\n",
       "      <td>104</td>\n",
       "      <td>116</td>\n",
       "      <td>2343</td>\n",
       "      <td>2362</td>\n",
       "      <td>2823</td>\n",
       "      <td>2815</td>\n",
       "      <td>1160</td>\n",
       "      <td>853</td>\n",
       "      <td>3703</td>\n",
       "      <td>233</td>\n",
       "    </tr>\n",
       "    <tr>\n",
       "      <th>top</th>\n",
       "      <td>31-Dec-18</td>\n",
       "      <td>EGAD</td>\n",
       "      <td>Eaagads Ltd</td>\n",
       "      <td>2</td>\n",
       "      <td>33.5</td>\n",
       "      <td>5</td>\n",
       "      <td>5</td>\n",
       "      <td>5</td>\n",
       "      <td>5</td>\n",
       "      <td>-</td>\n",
       "      <td>-</td>\n",
       "      <td>-</td>\n",
       "      <td>-</td>\n",
       "    </tr>\n",
       "    <tr>\n",
       "      <th>freq</th>\n",
       "      <td>73</td>\n",
       "      <td>250</td>\n",
       "      <td>250</td>\n",
       "      <td>495</td>\n",
       "      <td>500</td>\n",
       "      <td>351</td>\n",
       "      <td>387</td>\n",
       "      <td>330</td>\n",
       "      <td>329</td>\n",
       "      <td>6935</td>\n",
       "      <td>6938</td>\n",
       "      <td>4985</td>\n",
       "      <td>16985</td>\n",
       "    </tr>\n",
       "  </tbody>\n",
       "</table>\n",
       "</div>"
      ],
      "text/plain": [
       "             DATE   CODE         NAME 12m Low 12m High Day Low Day High  \\\n",
       "count       17650  17650        17650   17650    17650   17650    17650   \n",
       "unique        250     73           73     104      116    2343     2362   \n",
       "top     31-Dec-18   EGAD  Eaagads Ltd       2     33.5       5        5   \n",
       "freq           73    250          250     495      500     351      387   \n",
       "\n",
       "       Day Price Previous Change Change% Volume Adjust  \n",
       "count      17650    17650  17650   17650  17650  17650  \n",
       "unique      2823     2815   1160     853   3703    233  \n",
       "top            5        5      -       -      -      -  \n",
       "freq         330      329   6935    6938   4985  16985  "
      ]
     },
     "execution_count": 5,
     "metadata": {},
     "output_type": "execute_result"
    }
   ],
   "source": [
    "spreadsheet.describe()"
   ]
  },
  {
   "cell_type": "code",
   "execution_count": 6,
   "id": "01834359",
   "metadata": {},
   "outputs": [
    {
     "data": {
      "text/plain": [
       "Index(['DATE', 'CODE', 'NAME', '12m Low', '12m High', 'Day Low', 'Day High',\n",
       "       'Day Price', 'Previous', 'Change', 'Change%', 'Volume', 'Adjust'],\n",
       "      dtype='object')"
      ]
     },
     "execution_count": 6,
     "metadata": {},
     "output_type": "execute_result"
    }
   ],
   "source": [
    "spreadsheet.columns"
   ]
  },
  {
   "cell_type": "code",
   "execution_count": 7,
   "id": "a1ddcc74",
   "metadata": {},
   "outputs": [
    {
     "data": {
      "text/plain": [
       "DATE         object\n",
       "CODE         object\n",
       "NAME         object\n",
       "12m Low      object\n",
       "12m High     object\n",
       "Day Low      object\n",
       "Day High     object\n",
       "Day Price    object\n",
       "Previous     object\n",
       "Change       object\n",
       "Change%      object\n",
       "Volume       object\n",
       "Adjust       object\n",
       "dtype: object"
      ]
     },
     "execution_count": 7,
     "metadata": {},
     "output_type": "execute_result"
    }
   ],
   "source": [
    "spreadsheet.dtypes"
   ]
  },
  {
   "cell_type": "code",
   "execution_count": 8,
   "id": "3def69f6",
   "metadata": {},
   "outputs": [
    {
     "data": {
      "text/html": [
       "<div>\n",
       "<style scoped>\n",
       "    .dataframe tbody tr th:only-of-type {\n",
       "        vertical-align: middle;\n",
       "    }\n",
       "\n",
       "    .dataframe tbody tr th {\n",
       "        vertical-align: top;\n",
       "    }\n",
       "\n",
       "    .dataframe thead th {\n",
       "        text-align: right;\n",
       "    }\n",
       "</style>\n",
       "<table border=\"1\" class=\"dataframe\">\n",
       "  <thead>\n",
       "    <tr style=\"text-align: right;\">\n",
       "      <th></th>\n",
       "      <th>DATE</th>\n",
       "      <th>CODE</th>\n",
       "      <th>NAME</th>\n",
       "      <th>12m Low</th>\n",
       "      <th>12m High</th>\n",
       "      <th>Day Low</th>\n",
       "      <th>Day High</th>\n",
       "      <th>Day Price</th>\n",
       "      <th>Previous</th>\n",
       "      <th>Change</th>\n",
       "      <th>Change%</th>\n",
       "      <th>Volume</th>\n",
       "      <th>Adjust</th>\n",
       "    </tr>\n",
       "  </thead>\n",
       "  <tbody>\n",
       "    <tr>\n",
       "      <th>0</th>\n",
       "      <td>02-Jan-18</td>\n",
       "      <td>EGAD</td>\n",
       "      <td>Eaagads Ltd</td>\n",
       "      <td>8.2</td>\n",
       "      <td>14</td>\n",
       "      <td>25</td>\n",
       "      <td>25</td>\n",
       "      <td>25</td>\n",
       "      <td>22.75</td>\n",
       "      <td>2.25</td>\n",
       "      <td>9.89%</td>\n",
       "      <td>10,500</td>\n",
       "      <td>-</td>\n",
       "    </tr>\n",
       "    <tr>\n",
       "      <th>1</th>\n",
       "      <td>02-Jan-18</td>\n",
       "      <td>KUKZ</td>\n",
       "      <td>Kakuzi Plc</td>\n",
       "      <td>300</td>\n",
       "      <td>423.5</td>\n",
       "      <td>329</td>\n",
       "      <td>329</td>\n",
       "      <td>329</td>\n",
       "      <td>329</td>\n",
       "      <td>-</td>\n",
       "      <td>-</td>\n",
       "      <td>-</td>\n",
       "      <td>-</td>\n",
       "    </tr>\n",
       "    <tr>\n",
       "      <th>2</th>\n",
       "      <td>02-Jan-18</td>\n",
       "      <td>KAPC</td>\n",
       "      <td>Kapchorua Tea Kenya Plc</td>\n",
       "      <td>59</td>\n",
       "      <td>95</td>\n",
       "      <td>67.5</td>\n",
       "      <td>70</td>\n",
       "      <td>67.5</td>\n",
       "      <td>65.5</td>\n",
       "      <td>2</td>\n",
       "      <td>3.05%</td>\n",
       "      <td>1,000</td>\n",
       "      <td>-</td>\n",
       "    </tr>\n",
       "    <tr>\n",
       "      <th>3</th>\n",
       "      <td>02-Jan-18</td>\n",
       "      <td>LIMT</td>\n",
       "      <td>Limuru Tea Plc</td>\n",
       "      <td>385</td>\n",
       "      <td>475</td>\n",
       "      <td>500</td>\n",
       "      <td>500</td>\n",
       "      <td>500</td>\n",
       "      <td>500</td>\n",
       "      <td>-</td>\n",
       "      <td>-</td>\n",
       "      <td>-</td>\n",
       "      <td>-</td>\n",
       "    </tr>\n",
       "    <tr>\n",
       "      <th>4</th>\n",
       "      <td>02-Jan-18</td>\n",
       "      <td>SASN</td>\n",
       "      <td>Sasini Plc</td>\n",
       "      <td>14.8</td>\n",
       "      <td>19.6</td>\n",
       "      <td>27</td>\n",
       "      <td>27.5</td>\n",
       "      <td>27</td>\n",
       "      <td>29.5</td>\n",
       "      <td>-2.5</td>\n",
       "      <td>8.47%</td>\n",
       "      <td>300</td>\n",
       "      <td>-</td>\n",
       "    </tr>\n",
       "  </tbody>\n",
       "</table>\n",
       "</div>"
      ],
      "text/plain": [
       "        DATE  CODE                     NAME 12m Low 12m High Day Low Day High  \\\n",
       "0  02-Jan-18  EGAD              Eaagads Ltd     8.2       14      25       25   \n",
       "1  02-Jan-18  KUKZ               Kakuzi Plc     300    423.5     329      329   \n",
       "2  02-Jan-18  KAPC  Kapchorua Tea Kenya Plc      59       95    67.5       70   \n",
       "3  02-Jan-18  LIMT           Limuru Tea Plc     385      475     500      500   \n",
       "4  02-Jan-18  SASN               Sasini Plc    14.8     19.6      27     27.5   \n",
       "\n",
       "  Day Price Previous Change Change%  Volume Adjust  \n",
       "0        25    22.75   2.25   9.89%  10,500      -  \n",
       "1       329      329      -       -       -      -  \n",
       "2      67.5     65.5      2   3.05%   1,000      -  \n",
       "3       500      500      -       -       -      -  \n",
       "4        27     29.5   -2.5   8.47%     300      -  "
      ]
     },
     "execution_count": 8,
     "metadata": {},
     "output_type": "execute_result"
    }
   ],
   "source": [
    "# Dropping irrelevant columns\n",
    "Spreadsheet = spreadsheet.drop(['Adjust', 'Volume', 'Change', 'Previous', 'CODE'], axis=1)\n",
    "spreadsheet.head(5)"
   ]
  },
  {
   "cell_type": "code",
   "execution_count": 9,
   "id": "c2fc63fe",
   "metadata": {},
   "outputs": [
    {
     "name": "stdout",
     "output_type": "stream",
     "text": [
      "number of duplicate rows:  (0, 13)\n"
     ]
    }
   ],
   "source": [
    "duplicate_rows_spreadsheet = spreadsheet[spreadsheet.duplicated()]\n",
    "print(\"number of duplicate rows: \", duplicate_rows_spreadsheet.shape)"
   ]
  },
  {
   "cell_type": "code",
   "execution_count": 10,
   "id": "36af6e8a",
   "metadata": {},
   "outputs": [
    {
     "data": {
      "text/plain": [
       "DATE         17650\n",
       "CODE         17650\n",
       "NAME         17650\n",
       "12m Low      17650\n",
       "12m High     17650\n",
       "Day Low      17650\n",
       "Day High     17650\n",
       "Day Price    17650\n",
       "Previous     17650\n",
       "Change       17650\n",
       "Change%      17650\n",
       "Volume       17650\n",
       "Adjust       17650\n",
       "dtype: int64"
      ]
     },
     "execution_count": 10,
     "metadata": {},
     "output_type": "execute_result"
    }
   ],
   "source": [
    "# Removing duplicate data\n",
    "spreadsheet.count()"
   ]
  },
  {
   "cell_type": "code",
   "execution_count": 11,
   "id": "34ec662d",
   "metadata": {},
   "outputs": [
    {
     "data": {
      "text/html": [
       "<div>\n",
       "<style scoped>\n",
       "    .dataframe tbody tr th:only-of-type {\n",
       "        vertical-align: middle;\n",
       "    }\n",
       "\n",
       "    .dataframe tbody tr th {\n",
       "        vertical-align: top;\n",
       "    }\n",
       "\n",
       "    .dataframe thead th {\n",
       "        text-align: right;\n",
       "    }\n",
       "</style>\n",
       "<table border=\"1\" class=\"dataframe\">\n",
       "  <thead>\n",
       "    <tr style=\"text-align: right;\">\n",
       "      <th></th>\n",
       "      <th>DATE</th>\n",
       "      <th>CODE</th>\n",
       "      <th>NAME</th>\n",
       "      <th>12m Low</th>\n",
       "      <th>12m High</th>\n",
       "      <th>Day Low</th>\n",
       "      <th>Day High</th>\n",
       "      <th>Day Price</th>\n",
       "      <th>Previous</th>\n",
       "      <th>Change</th>\n",
       "      <th>Change%</th>\n",
       "      <th>Volume</th>\n",
       "      <th>Adjust</th>\n",
       "    </tr>\n",
       "  </thead>\n",
       "  <tbody>\n",
       "    <tr>\n",
       "      <th>0</th>\n",
       "      <td>02-Jan-18</td>\n",
       "      <td>EGAD</td>\n",
       "      <td>Eaagads Ltd</td>\n",
       "      <td>8.2</td>\n",
       "      <td>14</td>\n",
       "      <td>25</td>\n",
       "      <td>25</td>\n",
       "      <td>25</td>\n",
       "      <td>22.75</td>\n",
       "      <td>2.25</td>\n",
       "      <td>9.89%</td>\n",
       "      <td>10,500</td>\n",
       "      <td>-</td>\n",
       "    </tr>\n",
       "    <tr>\n",
       "      <th>1</th>\n",
       "      <td>02-Jan-18</td>\n",
       "      <td>KUKZ</td>\n",
       "      <td>Kakuzi Plc</td>\n",
       "      <td>300</td>\n",
       "      <td>423.5</td>\n",
       "      <td>329</td>\n",
       "      <td>329</td>\n",
       "      <td>329</td>\n",
       "      <td>329</td>\n",
       "      <td>-</td>\n",
       "      <td>-</td>\n",
       "      <td>-</td>\n",
       "      <td>-</td>\n",
       "    </tr>\n",
       "    <tr>\n",
       "      <th>2</th>\n",
       "      <td>02-Jan-18</td>\n",
       "      <td>KAPC</td>\n",
       "      <td>Kapchorua Tea Kenya Plc</td>\n",
       "      <td>59</td>\n",
       "      <td>95</td>\n",
       "      <td>67.5</td>\n",
       "      <td>70</td>\n",
       "      <td>67.5</td>\n",
       "      <td>65.5</td>\n",
       "      <td>2</td>\n",
       "      <td>3.05%</td>\n",
       "      <td>1,000</td>\n",
       "      <td>-</td>\n",
       "    </tr>\n",
       "    <tr>\n",
       "      <th>3</th>\n",
       "      <td>02-Jan-18</td>\n",
       "      <td>LIMT</td>\n",
       "      <td>Limuru Tea Plc</td>\n",
       "      <td>385</td>\n",
       "      <td>475</td>\n",
       "      <td>500</td>\n",
       "      <td>500</td>\n",
       "      <td>500</td>\n",
       "      <td>500</td>\n",
       "      <td>-</td>\n",
       "      <td>-</td>\n",
       "      <td>-</td>\n",
       "      <td>-</td>\n",
       "    </tr>\n",
       "    <tr>\n",
       "      <th>4</th>\n",
       "      <td>02-Jan-18</td>\n",
       "      <td>SASN</td>\n",
       "      <td>Sasini Plc</td>\n",
       "      <td>14.8</td>\n",
       "      <td>19.6</td>\n",
       "      <td>27</td>\n",
       "      <td>27.5</td>\n",
       "      <td>27</td>\n",
       "      <td>29.5</td>\n",
       "      <td>-2.5</td>\n",
       "      <td>8.47%</td>\n",
       "      <td>300</td>\n",
       "      <td>-</td>\n",
       "    </tr>\n",
       "  </tbody>\n",
       "</table>\n",
       "</div>"
      ],
      "text/plain": [
       "        DATE  CODE                     NAME 12m Low 12m High Day Low Day High  \\\n",
       "0  02-Jan-18  EGAD              Eaagads Ltd     8.2       14      25       25   \n",
       "1  02-Jan-18  KUKZ               Kakuzi Plc     300    423.5     329      329   \n",
       "2  02-Jan-18  KAPC  Kapchorua Tea Kenya Plc      59       95    67.5       70   \n",
       "3  02-Jan-18  LIMT           Limuru Tea Plc     385      475     500      500   \n",
       "4  02-Jan-18  SASN               Sasini Plc    14.8     19.6      27     27.5   \n",
       "\n",
       "  Day Price Previous Change Change%  Volume Adjust  \n",
       "0        25    22.75   2.25   9.89%  10,500      -  \n",
       "1       329      329      -       -       -      -  \n",
       "2      67.5     65.5      2   3.05%   1,000      -  \n",
       "3       500      500      -       -       -      -  \n",
       "4        27     29.5   -2.5   8.47%     300      -  "
      ]
     },
     "execution_count": 11,
     "metadata": {},
     "output_type": "execute_result"
    }
   ],
   "source": [
    "spreadsheet = spreadsheet.drop_duplicates()\n",
    "spreadsheet.head(5)"
   ]
  },
  {
   "cell_type": "code",
   "execution_count": 12,
   "id": "9813137d",
   "metadata": {},
   "outputs": [
    {
     "data": {
      "text/plain": [
       "DATE         17650\n",
       "CODE         17650\n",
       "NAME         17650\n",
       "12m Low      17650\n",
       "12m High     17650\n",
       "Day Low      17650\n",
       "Day High     17650\n",
       "Day Price    17650\n",
       "Previous     17650\n",
       "Change       17650\n",
       "Change%      17650\n",
       "Volume       17650\n",
       "Adjust       17650\n",
       "dtype: int64"
      ]
     },
     "execution_count": 12,
     "metadata": {},
     "output_type": "execute_result"
    }
   ],
   "source": [
    "# After removing duplicate data\n",
    "spreadsheet.count()"
   ]
  },
  {
   "cell_type": "code",
   "execution_count": 13,
   "id": "b4fb5d8d",
   "metadata": {},
   "outputs": [
    {
     "name": "stdout",
     "output_type": "stream",
     "text": [
      "DATE         1\n",
      "CODE         1\n",
      "NAME         1\n",
      "12m Low      1\n",
      "12m High     1\n",
      "Day Low      1\n",
      "Day High     1\n",
      "Day Price    1\n",
      "Previous     1\n",
      "Change       1\n",
      "Change%      1\n",
      "Volume       1\n",
      "Adjust       1\n",
      "dtype: int64\n"
     ]
    }
   ],
   "source": [
    "# Dropping missing or null values\n",
    "print(spreadsheet.isnull().sum())"
   ]
  },
  {
   "cell_type": "code",
   "execution_count": 14,
   "id": "8e0ea48f",
   "metadata": {},
   "outputs": [
    {
     "data": {
      "text/plain": [
       "DATE         17650\n",
       "CODE         17650\n",
       "NAME         17650\n",
       "12m Low      17650\n",
       "12m High     17650\n",
       "Day Low      17650\n",
       "Day High     17650\n",
       "Day Price    17650\n",
       "Previous     17650\n",
       "Change       17650\n",
       "Change%      17650\n",
       "Volume       17650\n",
       "Adjust       17650\n",
       "dtype: int64"
      ]
     },
     "execution_count": 14,
     "metadata": {},
     "output_type": "execute_result"
    }
   ],
   "source": [
    "# Dropping missing values\n",
    "spreadsheet = spreadsheet.dropna()\n",
    "spreadsheet.count()"
   ]
  },
  {
   "cell_type": "code",
   "execution_count": 15,
   "id": "65ad2734",
   "metadata": {},
   "outputs": [
    {
     "name": "stdout",
     "output_type": "stream",
     "text": [
      "DATE         0\n",
      "CODE         0\n",
      "NAME         0\n",
      "12m Low      0\n",
      "12m High     0\n",
      "Day Low      0\n",
      "Day High     0\n",
      "Day Price    0\n",
      "Previous     0\n",
      "Change       0\n",
      "Change%      0\n",
      "Volume       0\n",
      "Adjust       0\n",
      "dtype: int64\n"
     ]
    }
   ],
   "source": [
    "# After dropping the values\n",
    "print(spreadsheet.isnull().sum())"
   ]
  },
  {
   "cell_type": "code",
   "execution_count": null,
   "id": "568c80a5",
   "metadata": {},
   "outputs": [],
   "source": []
  }
 ],
 "metadata": {
  "kernelspec": {
   "display_name": "Python 3 (ipykernel)",
   "language": "python",
   "name": "python3"
  },
  "language_info": {
   "codemirror_mode": {
    "name": "ipython",
    "version": 3
   },
   "file_extension": ".py",
   "mimetype": "text/x-python",
   "name": "python",
   "nbconvert_exporter": "python",
   "pygments_lexer": "ipython3",
   "version": "3.9.12"
  }
 },
 "nbformat": 4,
 "nbformat_minor": 5
}
