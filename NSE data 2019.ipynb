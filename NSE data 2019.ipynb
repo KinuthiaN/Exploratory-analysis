{
 "cells": [
  {
   "cell_type": "code",
   "execution_count": 1,
   "id": "d1356888",
   "metadata": {},
   "outputs": [],
   "source": [
    "# Importing modules\n",
    "import numpy as np\n",
    "import pandas as pd\n",
    "import matplotlib.pyplot as plt\n",
    "import seaborn as sns\n",
    "from matplotlib import gridspec\n",
    "%matplotlib inline\n",
    "sns.set(color_codes=True)"
   ]
  },
  {
   "cell_type": "code",
   "execution_count": 3,
   "id": "1ce19aa6",
   "metadata": {},
   "outputs": [],
   "source": [
    "# read the dataset\n",
    "spreadsheet=pd.read_csv('/Users/Hp/Downloads/NSE_data_all_stocks_2019.csv')"
   ]
  },
  {
   "cell_type": "code",
   "execution_count": 4,
   "id": "966dfea8",
   "metadata": {},
   "outputs": [
    {
     "name": "stdout",
     "output_type": "stream",
     "text": [
      "<class 'pandas.core.frame.DataFrame'>\n",
      "RangeIndex: 18147 entries, 0 to 18146\n",
      "Data columns (total 13 columns):\n",
      " #   Column     Non-Null Count  Dtype \n",
      "---  ------     --------------  ----- \n",
      " 0   DATE       18147 non-null  object\n",
      " 1   CODE       18147 non-null  object\n",
      " 2   NAME       18147 non-null  object\n",
      " 3   12m Low    18147 non-null  object\n",
      " 4   12m High   18147 non-null  object\n",
      " 5   Day Low    18147 non-null  object\n",
      " 6   Day High   18147 non-null  object\n",
      " 7   Day Price  18147 non-null  object\n",
      " 8   Previous   18147 non-null  object\n",
      " 9   Change     18147 non-null  object\n",
      " 10  Change%    18147 non-null  object\n",
      " 11  Volume     18147 non-null  object\n",
      " 12  Adjust     18147 non-null  object\n",
      "dtypes: object(13)\n",
      "memory usage: 1.8+ MB\n"
     ]
    }
   ],
   "source": [
    "spreadsheet.info()"
   ]
  },
  {
   "cell_type": "code",
   "execution_count": 5,
   "id": "0f32d808",
   "metadata": {},
   "outputs": [
    {
     "data": {
      "text/html": [
       "<div>\n",
       "<style scoped>\n",
       "    .dataframe tbody tr th:only-of-type {\n",
       "        vertical-align: middle;\n",
       "    }\n",
       "\n",
       "    .dataframe tbody tr th {\n",
       "        vertical-align: top;\n",
       "    }\n",
       "\n",
       "    .dataframe thead th {\n",
       "        text-align: right;\n",
       "    }\n",
       "</style>\n",
       "<table border=\"1\" class=\"dataframe\">\n",
       "  <thead>\n",
       "    <tr style=\"text-align: right;\">\n",
       "      <th></th>\n",
       "      <th>DATE</th>\n",
       "      <th>CODE</th>\n",
       "      <th>NAME</th>\n",
       "      <th>12m Low</th>\n",
       "      <th>12m High</th>\n",
       "      <th>Day Low</th>\n",
       "      <th>Day High</th>\n",
       "      <th>Day Price</th>\n",
       "      <th>Previous</th>\n",
       "      <th>Change</th>\n",
       "      <th>Change%</th>\n",
       "      <th>Volume</th>\n",
       "      <th>Adjust</th>\n",
       "    </tr>\n",
       "  </thead>\n",
       "  <tbody>\n",
       "    <tr>\n",
       "      <th>count</th>\n",
       "      <td>18147</td>\n",
       "      <td>18147</td>\n",
       "      <td>18147</td>\n",
       "      <td>18147</td>\n",
       "      <td>18147</td>\n",
       "      <td>18147</td>\n",
       "      <td>18147</td>\n",
       "      <td>18147</td>\n",
       "      <td>18147</td>\n",
       "      <td>18147</td>\n",
       "      <td>18147</td>\n",
       "      <td>18147</td>\n",
       "      <td>18147</td>\n",
       "    </tr>\n",
       "    <tr>\n",
       "      <th>unique</th>\n",
       "      <td>250</td>\n",
       "      <td>73</td>\n",
       "      <td>73</td>\n",
       "      <td>105</td>\n",
       "      <td>115</td>\n",
       "      <td>3327</td>\n",
       "      <td>3322</td>\n",
       "      <td>3665</td>\n",
       "      <td>3666</td>\n",
       "      <td>1334</td>\n",
       "      <td>933</td>\n",
       "      <td>3179</td>\n",
       "      <td>72</td>\n",
       "    </tr>\n",
       "    <tr>\n",
       "      <th>top</th>\n",
       "      <td>02-Jan-19</td>\n",
       "      <td>EGAD</td>\n",
       "      <td>Eaagads Ltd</td>\n",
       "      <td>2</td>\n",
       "      <td>33.5</td>\n",
       "      <td>6</td>\n",
       "      <td>6</td>\n",
       "      <td>6</td>\n",
       "      <td>6</td>\n",
       "      <td>-</td>\n",
       "      <td>-</td>\n",
       "      <td>-</td>\n",
       "      <td>-</td>\n",
       "    </tr>\n",
       "    <tr>\n",
       "      <th>freq</th>\n",
       "      <td>73</td>\n",
       "      <td>250</td>\n",
       "      <td>250</td>\n",
       "      <td>494</td>\n",
       "      <td>500</td>\n",
       "      <td>324</td>\n",
       "      <td>351</td>\n",
       "      <td>313</td>\n",
       "      <td>313</td>\n",
       "      <td>6845</td>\n",
       "      <td>6854</td>\n",
       "      <td>6460</td>\n",
       "      <td>17943</td>\n",
       "    </tr>\n",
       "  </tbody>\n",
       "</table>\n",
       "</div>"
      ],
      "text/plain": [
       "             DATE   CODE         NAME 12m Low 12m High Day Low Day High  \\\n",
       "count       18147  18147        18147   18147    18147   18147    18147   \n",
       "unique        250     73           73     105      115    3327     3322   \n",
       "top     02-Jan-19   EGAD  Eaagads Ltd       2     33.5       6        6   \n",
       "freq           73    250          250     494      500     324      351   \n",
       "\n",
       "       Day Price Previous Change Change% Volume Adjust  \n",
       "count      18147    18147  18147   18147  18147  18147  \n",
       "unique      3665     3666   1334     933   3179     72  \n",
       "top            6        6      -       -      -      -  \n",
       "freq         313      313   6845    6854   6460  17943  "
      ]
     },
     "execution_count": 5,
     "metadata": {},
     "output_type": "execute_result"
    }
   ],
   "source": [
    "spreadsheet.describe()"
   ]
  },
  {
   "cell_type": "code",
   "execution_count": 6,
   "id": "3b173d31",
   "metadata": {},
   "outputs": [
    {
     "data": {
      "text/plain": [
       "Index(['DATE', 'CODE', 'NAME', '12m Low', '12m High', 'Day Low', 'Day High',\n",
       "       'Day Price', 'Previous', 'Change', 'Change%', 'Volume', 'Adjust'],\n",
       "      dtype='object')"
      ]
     },
     "execution_count": 6,
     "metadata": {},
     "output_type": "execute_result"
    }
   ],
   "source": [
    "spreadsheet.columns"
   ]
  },
  {
   "cell_type": "code",
   "execution_count": 7,
   "id": "aac7e22d",
   "metadata": {},
   "outputs": [
    {
     "data": {
      "text/plain": [
       "DATE         object\n",
       "CODE         object\n",
       "NAME         object\n",
       "12m Low      object\n",
       "12m High     object\n",
       "Day Low      object\n",
       "Day High     object\n",
       "Day Price    object\n",
       "Previous     object\n",
       "Change       object\n",
       "Change%      object\n",
       "Volume       object\n",
       "Adjust       object\n",
       "dtype: object"
      ]
     },
     "execution_count": 7,
     "metadata": {},
     "output_type": "execute_result"
    }
   ],
   "source": [
    "spreadsheet.dtypes"
   ]
  },
  {
   "cell_type": "code",
   "execution_count": 8,
   "id": "8eb5887c",
   "metadata": {},
   "outputs": [
    {
     "data": {
      "text/html": [
       "<div>\n",
       "<style scoped>\n",
       "    .dataframe tbody tr th:only-of-type {\n",
       "        vertical-align: middle;\n",
       "    }\n",
       "\n",
       "    .dataframe tbody tr th {\n",
       "        vertical-align: top;\n",
       "    }\n",
       "\n",
       "    .dataframe thead th {\n",
       "        text-align: right;\n",
       "    }\n",
       "</style>\n",
       "<table border=\"1\" class=\"dataframe\">\n",
       "  <thead>\n",
       "    <tr style=\"text-align: right;\">\n",
       "      <th></th>\n",
       "      <th>DATE</th>\n",
       "      <th>CODE</th>\n",
       "      <th>NAME</th>\n",
       "      <th>12m Low</th>\n",
       "      <th>12m High</th>\n",
       "      <th>Day Low</th>\n",
       "      <th>Day High</th>\n",
       "      <th>Day Price</th>\n",
       "      <th>Previous</th>\n",
       "      <th>Change</th>\n",
       "      <th>Change%</th>\n",
       "      <th>Volume</th>\n",
       "      <th>Adjust</th>\n",
       "    </tr>\n",
       "  </thead>\n",
       "  <tbody>\n",
       "    <tr>\n",
       "      <th>0</th>\n",
       "      <td>02-Jan-19</td>\n",
       "      <td>EGAD</td>\n",
       "      <td>Eaagads Ltd</td>\n",
       "      <td>8.2</td>\n",
       "      <td>14</td>\n",
       "      <td>14.5</td>\n",
       "      <td>14.5</td>\n",
       "      <td>14.5</td>\n",
       "      <td>14.5</td>\n",
       "      <td>-</td>\n",
       "      <td>-</td>\n",
       "      <td>-</td>\n",
       "      <td>-</td>\n",
       "    </tr>\n",
       "    <tr>\n",
       "      <th>1</th>\n",
       "      <td>02-Jan-19</td>\n",
       "      <td>KUKZ</td>\n",
       "      <td>Kakuzi Plc</td>\n",
       "      <td>300</td>\n",
       "      <td>423.5</td>\n",
       "      <td>310</td>\n",
       "      <td>310</td>\n",
       "      <td>310</td>\n",
       "      <td>310</td>\n",
       "      <td>-</td>\n",
       "      <td>-</td>\n",
       "      <td>-</td>\n",
       "      <td>-</td>\n",
       "    </tr>\n",
       "    <tr>\n",
       "      <th>2</th>\n",
       "      <td>02-Jan-19</td>\n",
       "      <td>KAPC</td>\n",
       "      <td>Kapchorua Tea Kenya Plc</td>\n",
       "      <td>59</td>\n",
       "      <td>95</td>\n",
       "      <td>74.5</td>\n",
       "      <td>74.5</td>\n",
       "      <td>74.5</td>\n",
       "      <td>75</td>\n",
       "      <td>-0.5</td>\n",
       "      <td>0.67%</td>\n",
       "      <td>200</td>\n",
       "      <td>-</td>\n",
       "    </tr>\n",
       "    <tr>\n",
       "      <th>3</th>\n",
       "      <td>02-Jan-19</td>\n",
       "      <td>LIMT</td>\n",
       "      <td>Limuru Tea Plc</td>\n",
       "      <td>385</td>\n",
       "      <td>475</td>\n",
       "      <td>500</td>\n",
       "      <td>500</td>\n",
       "      <td>500</td>\n",
       "      <td>500</td>\n",
       "      <td>-</td>\n",
       "      <td>-</td>\n",
       "      <td>-</td>\n",
       "      <td>-</td>\n",
       "    </tr>\n",
       "    <tr>\n",
       "      <th>4</th>\n",
       "      <td>02-Jan-19</td>\n",
       "      <td>SASN</td>\n",
       "      <td>Sasini Plc</td>\n",
       "      <td>14.8</td>\n",
       "      <td>19</td>\n",
       "      <td>19</td>\n",
       "      <td>21</td>\n",
       "      <td>19.8</td>\n",
       "      <td>19.9</td>\n",
       "      <td>-0.1</td>\n",
       "      <td>0.50%</td>\n",
       "      <td>1,000</td>\n",
       "      <td>-</td>\n",
       "    </tr>\n",
       "  </tbody>\n",
       "</table>\n",
       "</div>"
      ],
      "text/plain": [
       "        DATE  CODE                     NAME 12m Low 12m High Day Low Day High  \\\n",
       "0  02-Jan-19  EGAD              Eaagads Ltd     8.2       14    14.5     14.5   \n",
       "1  02-Jan-19  KUKZ               Kakuzi Plc     300    423.5     310      310   \n",
       "2  02-Jan-19  KAPC  Kapchorua Tea Kenya Plc      59       95    74.5     74.5   \n",
       "3  02-Jan-19  LIMT           Limuru Tea Plc     385      475     500      500   \n",
       "4  02-Jan-19  SASN               Sasini Plc    14.8       19      19       21   \n",
       "\n",
       "  Day Price Previous Change Change% Volume Adjust  \n",
       "0      14.5     14.5      -       -      -      -  \n",
       "1       310      310      -       -      -      -  \n",
       "2      74.5       75   -0.5   0.67%    200      -  \n",
       "3       500      500      -       -      -      -  \n",
       "4      19.8     19.9   -0.1   0.50%  1,000      -  "
      ]
     },
     "execution_count": 8,
     "metadata": {},
     "output_type": "execute_result"
    }
   ],
   "source": [
    "# Dropping irrelevant columns\n",
    "Spreadsheet = spreadsheet.drop(['Adjust', 'Volume', 'Change', 'Previous', 'CODE'], axis=1)\n",
    "spreadsheet.head(5)"
   ]
  },
  {
   "cell_type": "code",
   "execution_count": 9,
   "id": "c34b9949",
   "metadata": {},
   "outputs": [
    {
     "name": "stdout",
     "output_type": "stream",
     "text": [
      "number of duplicate rows:  (0, 13)\n"
     ]
    }
   ],
   "source": [
    "duplicate_rows_spreadsheet = spreadsheet[spreadsheet.duplicated()]\n",
    "print(\"number of duplicate rows: \", duplicate_rows_spreadsheet.shape)"
   ]
  },
  {
   "cell_type": "code",
   "execution_count": 10,
   "id": "8e60b751",
   "metadata": {},
   "outputs": [
    {
     "data": {
      "text/plain": [
       "DATE         18147\n",
       "CODE         18147\n",
       "NAME         18147\n",
       "12m Low      18147\n",
       "12m High     18147\n",
       "Day Low      18147\n",
       "Day High     18147\n",
       "Day Price    18147\n",
       "Previous     18147\n",
       "Change       18147\n",
       "Change%      18147\n",
       "Volume       18147\n",
       "Adjust       18147\n",
       "dtype: int64"
      ]
     },
     "execution_count": 10,
     "metadata": {},
     "output_type": "execute_result"
    }
   ],
   "source": [
    "# Removing duplicate data\n",
    "spreadsheet.count()"
   ]
  },
  {
   "cell_type": "code",
   "execution_count": 11,
   "id": "731b1780",
   "metadata": {},
   "outputs": [
    {
     "data": {
      "text/html": [
       "<div>\n",
       "<style scoped>\n",
       "    .dataframe tbody tr th:only-of-type {\n",
       "        vertical-align: middle;\n",
       "    }\n",
       "\n",
       "    .dataframe tbody tr th {\n",
       "        vertical-align: top;\n",
       "    }\n",
       "\n",
       "    .dataframe thead th {\n",
       "        text-align: right;\n",
       "    }\n",
       "</style>\n",
       "<table border=\"1\" class=\"dataframe\">\n",
       "  <thead>\n",
       "    <tr style=\"text-align: right;\">\n",
       "      <th></th>\n",
       "      <th>DATE</th>\n",
       "      <th>CODE</th>\n",
       "      <th>NAME</th>\n",
       "      <th>12m Low</th>\n",
       "      <th>12m High</th>\n",
       "      <th>Day Low</th>\n",
       "      <th>Day High</th>\n",
       "      <th>Day Price</th>\n",
       "      <th>Previous</th>\n",
       "      <th>Change</th>\n",
       "      <th>Change%</th>\n",
       "      <th>Volume</th>\n",
       "      <th>Adjust</th>\n",
       "    </tr>\n",
       "  </thead>\n",
       "  <tbody>\n",
       "    <tr>\n",
       "      <th>0</th>\n",
       "      <td>02-Jan-19</td>\n",
       "      <td>EGAD</td>\n",
       "      <td>Eaagads Ltd</td>\n",
       "      <td>8.2</td>\n",
       "      <td>14</td>\n",
       "      <td>14.5</td>\n",
       "      <td>14.5</td>\n",
       "      <td>14.5</td>\n",
       "      <td>14.5</td>\n",
       "      <td>-</td>\n",
       "      <td>-</td>\n",
       "      <td>-</td>\n",
       "      <td>-</td>\n",
       "    </tr>\n",
       "    <tr>\n",
       "      <th>1</th>\n",
       "      <td>02-Jan-19</td>\n",
       "      <td>KUKZ</td>\n",
       "      <td>Kakuzi Plc</td>\n",
       "      <td>300</td>\n",
       "      <td>423.5</td>\n",
       "      <td>310</td>\n",
       "      <td>310</td>\n",
       "      <td>310</td>\n",
       "      <td>310</td>\n",
       "      <td>-</td>\n",
       "      <td>-</td>\n",
       "      <td>-</td>\n",
       "      <td>-</td>\n",
       "    </tr>\n",
       "    <tr>\n",
       "      <th>2</th>\n",
       "      <td>02-Jan-19</td>\n",
       "      <td>KAPC</td>\n",
       "      <td>Kapchorua Tea Kenya Plc</td>\n",
       "      <td>59</td>\n",
       "      <td>95</td>\n",
       "      <td>74.5</td>\n",
       "      <td>74.5</td>\n",
       "      <td>74.5</td>\n",
       "      <td>75</td>\n",
       "      <td>-0.5</td>\n",
       "      <td>0.67%</td>\n",
       "      <td>200</td>\n",
       "      <td>-</td>\n",
       "    </tr>\n",
       "    <tr>\n",
       "      <th>3</th>\n",
       "      <td>02-Jan-19</td>\n",
       "      <td>LIMT</td>\n",
       "      <td>Limuru Tea Plc</td>\n",
       "      <td>385</td>\n",
       "      <td>475</td>\n",
       "      <td>500</td>\n",
       "      <td>500</td>\n",
       "      <td>500</td>\n",
       "      <td>500</td>\n",
       "      <td>-</td>\n",
       "      <td>-</td>\n",
       "      <td>-</td>\n",
       "      <td>-</td>\n",
       "    </tr>\n",
       "    <tr>\n",
       "      <th>4</th>\n",
       "      <td>02-Jan-19</td>\n",
       "      <td>SASN</td>\n",
       "      <td>Sasini Plc</td>\n",
       "      <td>14.8</td>\n",
       "      <td>19</td>\n",
       "      <td>19</td>\n",
       "      <td>21</td>\n",
       "      <td>19.8</td>\n",
       "      <td>19.9</td>\n",
       "      <td>-0.1</td>\n",
       "      <td>0.50%</td>\n",
       "      <td>1,000</td>\n",
       "      <td>-</td>\n",
       "    </tr>\n",
       "  </tbody>\n",
       "</table>\n",
       "</div>"
      ],
      "text/plain": [
       "        DATE  CODE                     NAME 12m Low 12m High Day Low Day High  \\\n",
       "0  02-Jan-19  EGAD              Eaagads Ltd     8.2       14    14.5     14.5   \n",
       "1  02-Jan-19  KUKZ               Kakuzi Plc     300    423.5     310      310   \n",
       "2  02-Jan-19  KAPC  Kapchorua Tea Kenya Plc      59       95    74.5     74.5   \n",
       "3  02-Jan-19  LIMT           Limuru Tea Plc     385      475     500      500   \n",
       "4  02-Jan-19  SASN               Sasini Plc    14.8       19      19       21   \n",
       "\n",
       "  Day Price Previous Change Change% Volume Adjust  \n",
       "0      14.5     14.5      -       -      -      -  \n",
       "1       310      310      -       -      -      -  \n",
       "2      74.5       75   -0.5   0.67%    200      -  \n",
       "3       500      500      -       -      -      -  \n",
       "4      19.8     19.9   -0.1   0.50%  1,000      -  "
      ]
     },
     "execution_count": 11,
     "metadata": {},
     "output_type": "execute_result"
    }
   ],
   "source": [
    "spreadsheet = spreadsheet.drop_duplicates()\n",
    "spreadsheet.head(5)"
   ]
  },
  {
   "cell_type": "code",
   "execution_count": 12,
   "id": "c2fa64eb",
   "metadata": {},
   "outputs": [
    {
     "data": {
      "text/plain": [
       "DATE         18147\n",
       "CODE         18147\n",
       "NAME         18147\n",
       "12m Low      18147\n",
       "12m High     18147\n",
       "Day Low      18147\n",
       "Day High     18147\n",
       "Day Price    18147\n",
       "Previous     18147\n",
       "Change       18147\n",
       "Change%      18147\n",
       "Volume       18147\n",
       "Adjust       18147\n",
       "dtype: int64"
      ]
     },
     "execution_count": 12,
     "metadata": {},
     "output_type": "execute_result"
    }
   ],
   "source": [
    "# After removing duplicate data\n",
    "spreadsheet.count()"
   ]
  },
  {
   "cell_type": "code",
   "execution_count": 13,
   "id": "bebf968c",
   "metadata": {},
   "outputs": [
    {
     "name": "stdout",
     "output_type": "stream",
     "text": [
      "DATE         0\n",
      "CODE         0\n",
      "NAME         0\n",
      "12m Low      0\n",
      "12m High     0\n",
      "Day Low      0\n",
      "Day High     0\n",
      "Day Price    0\n",
      "Previous     0\n",
      "Change       0\n",
      "Change%      0\n",
      "Volume       0\n",
      "Adjust       0\n",
      "dtype: int64\n"
     ]
    }
   ],
   "source": [
    "# Dropping missing or null values\n",
    "print(spreadsheet.isnull().sum())"
   ]
  },
  {
   "cell_type": "code",
   "execution_count": 14,
   "id": "c600011d",
   "metadata": {},
   "outputs": [
    {
     "data": {
      "text/plain": [
       "DATE         18147\n",
       "CODE         18147\n",
       "NAME         18147\n",
       "12m Low      18147\n",
       "12m High     18147\n",
       "Day Low      18147\n",
       "Day High     18147\n",
       "Day Price    18147\n",
       "Previous     18147\n",
       "Change       18147\n",
       "Change%      18147\n",
       "Volume       18147\n",
       "Adjust       18147\n",
       "dtype: int64"
      ]
     },
     "execution_count": 14,
     "metadata": {},
     "output_type": "execute_result"
    }
   ],
   "source": [
    "# Dropping missing values\n",
    "spreadsheet = spreadsheet.dropna()\n",
    "spreadsheet.count()"
   ]
  },
  {
   "cell_type": "code",
   "execution_count": 15,
   "id": "68c85760",
   "metadata": {},
   "outputs": [
    {
     "name": "stdout",
     "output_type": "stream",
     "text": [
      "DATE         0\n",
      "CODE         0\n",
      "NAME         0\n",
      "12m Low      0\n",
      "12m High     0\n",
      "Day Low      0\n",
      "Day High     0\n",
      "Day Price    0\n",
      "Previous     0\n",
      "Change       0\n",
      "Change%      0\n",
      "Volume       0\n",
      "Adjust       0\n",
      "dtype: int64\n"
     ]
    }
   ],
   "source": [
    "# After dropping the values\n",
    "print(spreadsheet.isnull().sum())"
   ]
  },
  {
   "cell_type": "code",
   "execution_count": null,
   "id": "9955d9f6",
   "metadata": {},
   "outputs": [],
   "source": []
  }
 ],
 "metadata": {
  "kernelspec": {
   "display_name": "Python 3 (ipykernel)",
   "language": "python",
   "name": "python3"
  },
  "language_info": {
   "codemirror_mode": {
    "name": "ipython",
    "version": 3
   },
   "file_extension": ".py",
   "mimetype": "text/x-python",
   "name": "python",
   "nbconvert_exporter": "python",
   "pygments_lexer": "ipython3",
   "version": "3.9.12"
  }
 },
 "nbformat": 4,
 "nbformat_minor": 5
}
