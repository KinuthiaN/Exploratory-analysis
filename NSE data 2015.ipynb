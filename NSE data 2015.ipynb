{
 "cells": [
  {
   "cell_type": "code",
   "execution_count": 1,
   "id": "342f9bf5",
   "metadata": {},
   "outputs": [],
   "source": [
    "# Importing modules\n",
    "import numpy as np\n",
    "import pandas as pd\n",
    "import matplotlib.pyplot as plt\n",
    "import seaborn as sns\n",
    "from matplotlib import gridspec\n",
    "%matplotlib inline\n",
    "sns.set(color_codes=True)"
   ]
  },
  {
   "cell_type": "code",
   "execution_count": 2,
   "id": "9f366335",
   "metadata": {},
   "outputs": [],
   "source": [
    "# read the dataset\n",
    "spreadsheet=pd.read_csv('/Users/Hp/Downloads/NSE_data_all_stocks_2015.csv')"
   ]
  },
  {
   "cell_type": "code",
   "execution_count": 3,
   "id": "3249d77e",
   "metadata": {},
   "outputs": [
    {
     "name": "stdout",
     "output_type": "stream",
     "text": [
      "<class 'pandas.core.frame.DataFrame'>\n",
      "RangeIndex: 16386 entries, 0 to 16385\n",
      "Data columns (total 13 columns):\n",
      " #   Column     Non-Null Count  Dtype \n",
      "---  ------     --------------  ----- \n",
      " 0   DATE       16386 non-null  object\n",
      " 1   CODE       16386 non-null  object\n",
      " 2   NAME       16386 non-null  object\n",
      " 3   12m Low    16386 non-null  object\n",
      " 4   12m High   16386 non-null  object\n",
      " 5   Day Low    16386 non-null  object\n",
      " 6   Day High   16386 non-null  object\n",
      " 7   Day Price  16386 non-null  object\n",
      " 8   Previous   16386 non-null  object\n",
      " 9   Change     16386 non-null  object\n",
      " 10  Change%    16386 non-null  object\n",
      " 11  Volume     16386 non-null  object\n",
      " 12  Adjust     16386 non-null  object\n",
      "dtypes: object(13)\n",
      "memory usage: 1.6+ MB\n"
     ]
    }
   ],
   "source": [
    "spreadsheet.info()"
   ]
  },
  {
   "cell_type": "code",
   "execution_count": 4,
   "id": "5d2baa8c",
   "metadata": {},
   "outputs": [
    {
     "data": {
      "text/html": [
       "<div>\n",
       "<style scoped>\n",
       "    .dataframe tbody tr th:only-of-type {\n",
       "        vertical-align: middle;\n",
       "    }\n",
       "\n",
       "    .dataframe tbody tr th {\n",
       "        vertical-align: top;\n",
       "    }\n",
       "\n",
       "    .dataframe thead th {\n",
       "        text-align: right;\n",
       "    }\n",
       "</style>\n",
       "<table border=\"1\" class=\"dataframe\">\n",
       "  <thead>\n",
       "    <tr style=\"text-align: right;\">\n",
       "      <th></th>\n",
       "      <th>DATE</th>\n",
       "      <th>CODE</th>\n",
       "      <th>NAME</th>\n",
       "      <th>12m Low</th>\n",
       "      <th>12m High</th>\n",
       "      <th>Day Low</th>\n",
       "      <th>Day High</th>\n",
       "      <th>Day Price</th>\n",
       "      <th>Previous</th>\n",
       "      <th>Change</th>\n",
       "      <th>Change%</th>\n",
       "      <th>Volume</th>\n",
       "      <th>Adjust</th>\n",
       "    </tr>\n",
       "  </thead>\n",
       "  <tbody>\n",
       "    <tr>\n",
       "      <th>count</th>\n",
       "      <td>16386</td>\n",
       "      <td>16386</td>\n",
       "      <td>16386</td>\n",
       "      <td>16386</td>\n",
       "      <td>16386</td>\n",
       "      <td>16386</td>\n",
       "      <td>16386</td>\n",
       "      <td>16386</td>\n",
       "      <td>16386</td>\n",
       "      <td>16386</td>\n",
       "      <td>16386</td>\n",
       "      <td>16386</td>\n",
       "      <td>16386</td>\n",
       "    </tr>\n",
       "    <tr>\n",
       "      <th>unique</th>\n",
       "      <td>251</td>\n",
       "      <td>67</td>\n",
       "      <td>67</td>\n",
       "      <td>99</td>\n",
       "      <td>107</td>\n",
       "      <td>2027</td>\n",
       "      <td>2037</td>\n",
       "      <td>2514</td>\n",
       "      <td>2512</td>\n",
       "      <td>841</td>\n",
       "      <td>865</td>\n",
       "      <td>4280</td>\n",
       "      <td>1132</td>\n",
       "    </tr>\n",
       "    <tr>\n",
       "      <th>top</th>\n",
       "      <td>31-Dec-15</td>\n",
       "      <td>EGAD</td>\n",
       "      <td>Eaagads Ltd</td>\n",
       "      <td>2</td>\n",
       "      <td>55.5</td>\n",
       "      <td>5.5</td>\n",
       "      <td>5.5</td>\n",
       "      <td>5.5</td>\n",
       "      <td>5.5</td>\n",
       "      <td>-</td>\n",
       "      <td>-</td>\n",
       "      <td>-</td>\n",
       "      <td>-</td>\n",
       "    </tr>\n",
       "    <tr>\n",
       "      <th>freq</th>\n",
       "      <td>67</td>\n",
       "      <td>251</td>\n",
       "      <td>251</td>\n",
       "      <td>489</td>\n",
       "      <td>502</td>\n",
       "      <td>395</td>\n",
       "      <td>399</td>\n",
       "      <td>379</td>\n",
       "      <td>378</td>\n",
       "      <td>5357</td>\n",
       "      <td>5361</td>\n",
       "      <td>3732</td>\n",
       "      <td>12791</td>\n",
       "    </tr>\n",
       "  </tbody>\n",
       "</table>\n",
       "</div>"
      ],
      "text/plain": [
       "             DATE   CODE         NAME 12m Low 12m High Day Low Day High  \\\n",
       "count       16386  16386        16386   16386    16386   16386    16386   \n",
       "unique        251     67           67      99      107    2027     2037   \n",
       "top     31-Dec-15   EGAD  Eaagads Ltd       2     55.5     5.5      5.5   \n",
       "freq           67    251          251     489      502     395      399   \n",
       "\n",
       "       Day Price Previous Change Change% Volume Adjust  \n",
       "count      16386    16386  16386   16386  16386  16386  \n",
       "unique      2514     2512    841     865   4280   1132  \n",
       "top          5.5      5.5      -       -      -      -  \n",
       "freq         379      378   5357    5361   3732  12791  "
      ]
     },
     "execution_count": 4,
     "metadata": {},
     "output_type": "execute_result"
    }
   ],
   "source": [
    "spreadsheet.describe()"
   ]
  },
  {
   "cell_type": "code",
   "execution_count": 5,
   "id": "91f0db6e",
   "metadata": {},
   "outputs": [
    {
     "data": {
      "text/plain": [
       "Index(['DATE', 'CODE', 'NAME', '12m Low', '12m High', 'Day Low', 'Day High',\n",
       "       'Day Price', 'Previous', 'Change', 'Change%', 'Volume', 'Adjust'],\n",
       "      dtype='object')"
      ]
     },
     "execution_count": 5,
     "metadata": {},
     "output_type": "execute_result"
    }
   ],
   "source": [
    "spreadsheet.columns"
   ]
  },
  {
   "cell_type": "code",
   "execution_count": 6,
   "id": "de7ff6d4",
   "metadata": {},
   "outputs": [
    {
     "data": {
      "text/plain": [
       "DATE         object\n",
       "CODE         object\n",
       "NAME         object\n",
       "12m Low      object\n",
       "12m High     object\n",
       "Day Low      object\n",
       "Day High     object\n",
       "Day Price    object\n",
       "Previous     object\n",
       "Change       object\n",
       "Change%      object\n",
       "Volume       object\n",
       "Adjust       object\n",
       "dtype: object"
      ]
     },
     "execution_count": 6,
     "metadata": {},
     "output_type": "execute_result"
    }
   ],
   "source": [
    "spreadsheet.dtypes"
   ]
  },
  {
   "cell_type": "code",
   "execution_count": 7,
   "id": "0aa1627a",
   "metadata": {},
   "outputs": [
    {
     "data": {
      "text/html": [
       "<div>\n",
       "<style scoped>\n",
       "    .dataframe tbody tr th:only-of-type {\n",
       "        vertical-align: middle;\n",
       "    }\n",
       "\n",
       "    .dataframe tbody tr th {\n",
       "        vertical-align: top;\n",
       "    }\n",
       "\n",
       "    .dataframe thead th {\n",
       "        text-align: right;\n",
       "    }\n",
       "</style>\n",
       "<table border=\"1\" class=\"dataframe\">\n",
       "  <thead>\n",
       "    <tr style=\"text-align: right;\">\n",
       "      <th></th>\n",
       "      <th>DATE</th>\n",
       "      <th>CODE</th>\n",
       "      <th>NAME</th>\n",
       "      <th>12m Low</th>\n",
       "      <th>12m High</th>\n",
       "      <th>Day Low</th>\n",
       "      <th>Day High</th>\n",
       "      <th>Day Price</th>\n",
       "      <th>Previous</th>\n",
       "      <th>Change</th>\n",
       "      <th>Change%</th>\n",
       "      <th>Volume</th>\n",
       "      <th>Adjust</th>\n",
       "    </tr>\n",
       "  </thead>\n",
       "  <tbody>\n",
       "    <tr>\n",
       "      <th>0</th>\n",
       "      <td>2-Jan-15</td>\n",
       "      <td>EGAD</td>\n",
       "      <td>Eaagads Ltd</td>\n",
       "      <td>8.2</td>\n",
       "      <td>14</td>\n",
       "      <td>42</td>\n",
       "      <td>42</td>\n",
       "      <td>42</td>\n",
       "      <td>42</td>\n",
       "      <td>-</td>\n",
       "      <td>-</td>\n",
       "      <td>-</td>\n",
       "      <td>-</td>\n",
       "    </tr>\n",
       "    <tr>\n",
       "      <th>1</th>\n",
       "      <td>2-Jan-15</td>\n",
       "      <td>KUKZ</td>\n",
       "      <td>Kakuzi Plc</td>\n",
       "      <td>300</td>\n",
       "      <td>423.5</td>\n",
       "      <td>180</td>\n",
       "      <td>180</td>\n",
       "      <td>180</td>\n",
       "      <td>180</td>\n",
       "      <td>-</td>\n",
       "      <td>-</td>\n",
       "      <td>5,200</td>\n",
       "      <td>-</td>\n",
       "    </tr>\n",
       "    <tr>\n",
       "      <th>2</th>\n",
       "      <td>2-Jan-15</td>\n",
       "      <td>KAPC</td>\n",
       "      <td>Kapchorua Tea Kenya Plc</td>\n",
       "      <td>59</td>\n",
       "      <td>95</td>\n",
       "      <td>137</td>\n",
       "      <td>137</td>\n",
       "      <td>137</td>\n",
       "      <td>137</td>\n",
       "      <td>-</td>\n",
       "      <td>-</td>\n",
       "      <td>-</td>\n",
       "      <td>68.5</td>\n",
       "    </tr>\n",
       "    <tr>\n",
       "      <th>3</th>\n",
       "      <td>2-Jan-15</td>\n",
       "      <td>LIMT</td>\n",
       "      <td>Limuru Tea Plc</td>\n",
       "      <td>385</td>\n",
       "      <td>475</td>\n",
       "      <td>771</td>\n",
       "      <td>771</td>\n",
       "      <td>771</td>\n",
       "      <td>771</td>\n",
       "      <td>-</td>\n",
       "      <td>-</td>\n",
       "      <td>-</td>\n",
       "      <td>385.5</td>\n",
       "    </tr>\n",
       "    <tr>\n",
       "      <th>4</th>\n",
       "      <td>2-Jan-15</td>\n",
       "      <td>SASN</td>\n",
       "      <td>Sasini Plc</td>\n",
       "      <td>14.8</td>\n",
       "      <td>19.6</td>\n",
       "      <td>13</td>\n",
       "      <td>13</td>\n",
       "      <td>13</td>\n",
       "      <td>12.85</td>\n",
       "      <td>0.15</td>\n",
       "      <td>1.17%</td>\n",
       "      <td>1,000</td>\n",
       "      <td>-</td>\n",
       "    </tr>\n",
       "  </tbody>\n",
       "</table>\n",
       "</div>"
      ],
      "text/plain": [
       "       DATE  CODE                     NAME 12m Low 12m High Day Low Day High  \\\n",
       "0  2-Jan-15  EGAD              Eaagads Ltd     8.2       14      42       42   \n",
       "1  2-Jan-15  KUKZ               Kakuzi Plc     300    423.5     180      180   \n",
       "2  2-Jan-15  KAPC  Kapchorua Tea Kenya Plc      59       95     137      137   \n",
       "3  2-Jan-15  LIMT           Limuru Tea Plc     385      475     771      771   \n",
       "4  2-Jan-15  SASN               Sasini Plc    14.8     19.6      13       13   \n",
       "\n",
       "  Day Price Previous Change Change% Volume Adjust  \n",
       "0        42       42      -       -      -      -  \n",
       "1       180      180      -       -  5,200      -  \n",
       "2       137      137      -       -      -   68.5  \n",
       "3       771      771      -       -      -  385.5  \n",
       "4        13    12.85   0.15   1.17%  1,000      -  "
      ]
     },
     "execution_count": 7,
     "metadata": {},
     "output_type": "execute_result"
    }
   ],
   "source": [
    "# Dropping irrelevant columns\n",
    "Spreadsheet = spreadsheet.drop(['Adjust', 'Volume', 'Change', 'Previous', 'CODE'], axis=1)\n",
    "spreadsheet.head(5)"
   ]
  },
  {
   "cell_type": "code",
   "execution_count": 8,
   "id": "f7d93bd9",
   "metadata": {},
   "outputs": [
    {
     "data": {
      "text/plain": [
       "(16386, 13)"
      ]
     },
     "execution_count": 8,
     "metadata": {},
     "output_type": "execute_result"
    }
   ],
   "source": [
    "# Dropping duplicate rows\n",
    "spreadsheet.shape"
   ]
  },
  {
   "cell_type": "code",
   "execution_count": 9,
   "id": "248882d1",
   "metadata": {},
   "outputs": [
    {
     "name": "stdout",
     "output_type": "stream",
     "text": [
      "number of duplicate rows:  (0, 13)\n"
     ]
    }
   ],
   "source": [
    "duplicate_rows_spreadsheet = spreadsheet[spreadsheet.duplicated()]\n",
    "print(\"number of duplicate rows: \", duplicate_rows_spreadsheet.shape)"
   ]
  },
  {
   "cell_type": "code",
   "execution_count": 10,
   "id": "af943470",
   "metadata": {},
   "outputs": [
    {
     "data": {
      "text/plain": [
       "DATE         16386\n",
       "CODE         16386\n",
       "NAME         16386\n",
       "12m Low      16386\n",
       "12m High     16386\n",
       "Day Low      16386\n",
       "Day High     16386\n",
       "Day Price    16386\n",
       "Previous     16386\n",
       "Change       16386\n",
       "Change%      16386\n",
       "Volume       16386\n",
       "Adjust       16386\n",
       "dtype: int64"
      ]
     },
     "execution_count": 10,
     "metadata": {},
     "output_type": "execute_result"
    }
   ],
   "source": [
    "# Removing duplicate data\n",
    "spreadsheet.count()"
   ]
  },
  {
   "cell_type": "code",
   "execution_count": 11,
   "id": "fc5e4e56",
   "metadata": {},
   "outputs": [
    {
     "data": {
      "text/html": [
       "<div>\n",
       "<style scoped>\n",
       "    .dataframe tbody tr th:only-of-type {\n",
       "        vertical-align: middle;\n",
       "    }\n",
       "\n",
       "    .dataframe tbody tr th {\n",
       "        vertical-align: top;\n",
       "    }\n",
       "\n",
       "    .dataframe thead th {\n",
       "        text-align: right;\n",
       "    }\n",
       "</style>\n",
       "<table border=\"1\" class=\"dataframe\">\n",
       "  <thead>\n",
       "    <tr style=\"text-align: right;\">\n",
       "      <th></th>\n",
       "      <th>DATE</th>\n",
       "      <th>CODE</th>\n",
       "      <th>NAME</th>\n",
       "      <th>12m Low</th>\n",
       "      <th>12m High</th>\n",
       "      <th>Day Low</th>\n",
       "      <th>Day High</th>\n",
       "      <th>Day Price</th>\n",
       "      <th>Previous</th>\n",
       "      <th>Change</th>\n",
       "      <th>Change%</th>\n",
       "      <th>Volume</th>\n",
       "      <th>Adjust</th>\n",
       "    </tr>\n",
       "  </thead>\n",
       "  <tbody>\n",
       "    <tr>\n",
       "      <th>0</th>\n",
       "      <td>2-Jan-15</td>\n",
       "      <td>EGAD</td>\n",
       "      <td>Eaagads Ltd</td>\n",
       "      <td>8.2</td>\n",
       "      <td>14</td>\n",
       "      <td>42</td>\n",
       "      <td>42</td>\n",
       "      <td>42</td>\n",
       "      <td>42</td>\n",
       "      <td>-</td>\n",
       "      <td>-</td>\n",
       "      <td>-</td>\n",
       "      <td>-</td>\n",
       "    </tr>\n",
       "    <tr>\n",
       "      <th>1</th>\n",
       "      <td>2-Jan-15</td>\n",
       "      <td>KUKZ</td>\n",
       "      <td>Kakuzi Plc</td>\n",
       "      <td>300</td>\n",
       "      <td>423.5</td>\n",
       "      <td>180</td>\n",
       "      <td>180</td>\n",
       "      <td>180</td>\n",
       "      <td>180</td>\n",
       "      <td>-</td>\n",
       "      <td>-</td>\n",
       "      <td>5,200</td>\n",
       "      <td>-</td>\n",
       "    </tr>\n",
       "    <tr>\n",
       "      <th>2</th>\n",
       "      <td>2-Jan-15</td>\n",
       "      <td>KAPC</td>\n",
       "      <td>Kapchorua Tea Kenya Plc</td>\n",
       "      <td>59</td>\n",
       "      <td>95</td>\n",
       "      <td>137</td>\n",
       "      <td>137</td>\n",
       "      <td>137</td>\n",
       "      <td>137</td>\n",
       "      <td>-</td>\n",
       "      <td>-</td>\n",
       "      <td>-</td>\n",
       "      <td>68.5</td>\n",
       "    </tr>\n",
       "    <tr>\n",
       "      <th>3</th>\n",
       "      <td>2-Jan-15</td>\n",
       "      <td>LIMT</td>\n",
       "      <td>Limuru Tea Plc</td>\n",
       "      <td>385</td>\n",
       "      <td>475</td>\n",
       "      <td>771</td>\n",
       "      <td>771</td>\n",
       "      <td>771</td>\n",
       "      <td>771</td>\n",
       "      <td>-</td>\n",
       "      <td>-</td>\n",
       "      <td>-</td>\n",
       "      <td>385.5</td>\n",
       "    </tr>\n",
       "    <tr>\n",
       "      <th>4</th>\n",
       "      <td>2-Jan-15</td>\n",
       "      <td>SASN</td>\n",
       "      <td>Sasini Plc</td>\n",
       "      <td>14.8</td>\n",
       "      <td>19.6</td>\n",
       "      <td>13</td>\n",
       "      <td>13</td>\n",
       "      <td>13</td>\n",
       "      <td>12.85</td>\n",
       "      <td>0.15</td>\n",
       "      <td>1.17%</td>\n",
       "      <td>1,000</td>\n",
       "      <td>-</td>\n",
       "    </tr>\n",
       "  </tbody>\n",
       "</table>\n",
       "</div>"
      ],
      "text/plain": [
       "       DATE  CODE                     NAME 12m Low 12m High Day Low Day High  \\\n",
       "0  2-Jan-15  EGAD              Eaagads Ltd     8.2       14      42       42   \n",
       "1  2-Jan-15  KUKZ               Kakuzi Plc     300    423.5     180      180   \n",
       "2  2-Jan-15  KAPC  Kapchorua Tea Kenya Plc      59       95     137      137   \n",
       "3  2-Jan-15  LIMT           Limuru Tea Plc     385      475     771      771   \n",
       "4  2-Jan-15  SASN               Sasini Plc    14.8     19.6      13       13   \n",
       "\n",
       "  Day Price Previous Change Change% Volume Adjust  \n",
       "0        42       42      -       -      -      -  \n",
       "1       180      180      -       -  5,200      -  \n",
       "2       137      137      -       -      -   68.5  \n",
       "3       771      771      -       -      -  385.5  \n",
       "4        13    12.85   0.15   1.17%  1,000      -  "
      ]
     },
     "execution_count": 11,
     "metadata": {},
     "output_type": "execute_result"
    }
   ],
   "source": [
    "spreadsheet = spreadsheet.drop_duplicates()\n",
    "spreadsheet.head(5)"
   ]
  },
  {
   "cell_type": "code",
   "execution_count": 12,
   "id": "94a18408",
   "metadata": {},
   "outputs": [
    {
     "data": {
      "text/plain": [
       "DATE         16386\n",
       "CODE         16386\n",
       "NAME         16386\n",
       "12m Low      16386\n",
       "12m High     16386\n",
       "Day Low      16386\n",
       "Day High     16386\n",
       "Day Price    16386\n",
       "Previous     16386\n",
       "Change       16386\n",
       "Change%      16386\n",
       "Volume       16386\n",
       "Adjust       16386\n",
       "dtype: int64"
      ]
     },
     "execution_count": 12,
     "metadata": {},
     "output_type": "execute_result"
    }
   ],
   "source": [
    "spreadsheet.count()"
   ]
  },
  {
   "cell_type": "code",
   "execution_count": 13,
   "id": "7ce4a65e",
   "metadata": {},
   "outputs": [
    {
     "name": "stdout",
     "output_type": "stream",
     "text": [
      "DATE         0\n",
      "CODE         0\n",
      "NAME         0\n",
      "12m Low      0\n",
      "12m High     0\n",
      "Day Low      0\n",
      "Day High     0\n",
      "Day Price    0\n",
      "Previous     0\n",
      "Change       0\n",
      "Change%      0\n",
      "Volume       0\n",
      "Adjust       0\n",
      "dtype: int64\n"
     ]
    }
   ],
   "source": [
    "# Dropping missing or null values\n",
    "print(spreadsheet.isnull().sum())"
   ]
  },
  {
   "cell_type": "code",
   "execution_count": 14,
   "id": "dff1af58",
   "metadata": {},
   "outputs": [
    {
     "data": {
      "text/plain": [
       "DATE         16386\n",
       "CODE         16386\n",
       "NAME         16386\n",
       "12m Low      16386\n",
       "12m High     16386\n",
       "Day Low      16386\n",
       "Day High     16386\n",
       "Day Price    16386\n",
       "Previous     16386\n",
       "Change       16386\n",
       "Change%      16386\n",
       "Volume       16386\n",
       "Adjust       16386\n",
       "dtype: int64"
      ]
     },
     "execution_count": 14,
     "metadata": {},
     "output_type": "execute_result"
    }
   ],
   "source": [
    "# Dropping missing values\n",
    "spreadsheet = spreadsheet.dropna()\n",
    "spreadsheet.count()"
   ]
  },
  {
   "cell_type": "code",
   "execution_count": 15,
   "id": "449d2f62",
   "metadata": {},
   "outputs": [
    {
     "name": "stdout",
     "output_type": "stream",
     "text": [
      "DATE         0\n",
      "CODE         0\n",
      "NAME         0\n",
      "12m Low      0\n",
      "12m High     0\n",
      "Day Low      0\n",
      "Day High     0\n",
      "Day Price    0\n",
      "Previous     0\n",
      "Change       0\n",
      "Change%      0\n",
      "Volume       0\n",
      "Adjust       0\n",
      "dtype: int64\n"
     ]
    }
   ],
   "source": [
    "# After dropping the values\n",
    "print(spreadsheet.isnull().sum())"
   ]
  }
 ],
 "metadata": {
  "kernelspec": {
   "display_name": "Python 3 (ipykernel)",
   "language": "python",
   "name": "python3"
  },
  "language_info": {
   "codemirror_mode": {
    "name": "ipython",
    "version": 3
   },
   "file_extension": ".py",
   "mimetype": "text/x-python",
   "name": "python",
   "nbconvert_exporter": "python",
   "pygments_lexer": "ipython3",
   "version": "3.9.12"
  }
 },
 "nbformat": 4,
 "nbformat_minor": 5
}
